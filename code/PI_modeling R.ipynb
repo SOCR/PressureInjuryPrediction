{
 "cells": [
  {
   "cell_type": "markdown",
   "metadata": {},
   "source": [
    "## Read data"
   ]
  },
  {
   "cell_type": "code",
   "execution_count": 2,
   "metadata": {},
   "outputs": [],
   "source": [
    "options(repr.plot.width=16, repr.plot.height=10)"
   ]
  },
  {
   "cell_type": "code",
   "execution_count": 3,
   "metadata": {},
   "outputs": [],
   "source": [
    "all_data <- read.csv(\"Analysis/all_data_dummy.csv\")"
   ]
  },
  {
   "cell_type": "code",
   "execution_count": 4,
   "metadata": {},
   "outputs": [],
   "source": [
    "all_data <- all_data[,2:253]"
   ]
  },
  {
   "cell_type": "code",
   "execution_count": 3,
   "metadata": {
    "collapsed": true,
    "jupyter": {
     "outputs_hidden": true
    }
   },
   "outputs": [
    {
     "data": {
      "text/html": [
       "<ol class=list-inline>\n",
       "\t<li>'X0........000C1BA7.122E.E411.BC94.F0921C021BF8.1........000FD36B.E520.E511.AE88.F0921C021BF8.2........000FFA74.52CC.E411.8D38.F0921C021BF8.3........0014FADC.81EB.E311.B57F.F0921C021BF8.4........001D0E76.C7CC.E411.8D38.F0921C021BF8...............................................18938....FFF68729.2EBE.E411.949A.F0921C021BF8.18939....FFF95D81.F367.E511.A124.F0921C021BF8.18940....FFFA6165.05C6.E511.8BC0.F0921C021BF8.18941....FFFC2774.05FD.E411.846C.F0921C021BF8.18942....FFFF346E.C372.E511.A124.F0921C021BF8.Name..encounterid..Length..18943..dtype..object'</li>\n",
       "\t<li>'matchsequence'</li>\n",
       "\t<li>'ageinyears'</li>\n",
       "\t<li>'los'</li>\n",
       "\t<li>'icu_los'</li>\n",
       "\t<li>'pi'</li>\n",
       "\t<li>'tobaccopacksperday'</li>\n",
       "\t<li>'tobaccousedyears'</li>\n",
       "\t<li>'heightcm'</li>\n",
       "\t<li>'weightkg'</li>\n",
       "\t<li>'bmi'</li>\n",
       "\t<li>'lab_glucmin'</li>\n",
       "\t<li>'lab_glucmean'</li>\n",
       "\t<li>'lab_glucmax'</li>\n",
       "\t<li>'lab_gluccount'</li>\n",
       "\t<li>'lab_unmin'</li>\n",
       "\t<li>'lab_unmean'</li>\n",
       "\t<li>'lab_unmax'</li>\n",
       "\t<li>'lab_uncount'</li>\n",
       "\t<li>'lab_creatmin'</li>\n",
       "\t<li>'lab_creatmean'</li>\n",
       "\t<li>'lab_creatmax'</li>\n",
       "\t<li>'lab_creatcount'</li>\n",
       "\t<li>'lab_albmin'</li>\n",
       "\t<li>'lab_albmean'</li>\n",
       "\t<li>'lab_albmax'</li>\n",
       "\t<li>'lab_albcount'</li>\n",
       "\t<li>'lab_hgbmin'</li>\n",
       "\t<li>'lab_hgbmean'</li>\n",
       "\t<li>'lab_hgbmax'</li>\n",
       "\t<li>'lab_hgbcount'</li>\n",
       "\t<li>'bpdinvasive_min'</li>\n",
       "\t<li>'bpsinvasive_min'</li>\n",
       "\t<li>'bpdnoninvasive_min'</li>\n",
       "\t<li>'bpsnoninvasive_min'</li>\n",
       "\t<li>'hr_min'</li>\n",
       "\t<li>'rr_min'</li>\n",
       "\t<li>'temp_min'</li>\n",
       "\t<li>'spo2_min'</li>\n",
       "\t<li>'painmin'</li>\n",
       "\t<li>'bpsinvasive_max'</li>\n",
       "\t<li>'bpsnoninvasive_max'</li>\n",
       "\t<li>'bpdnoninvasive_max'</li>\n",
       "\t<li>'bpdinvasive_max'</li>\n",
       "\t<li>'hr_max'</li>\n",
       "\t<li>'rr_max'</li>\n",
       "\t<li>'temp_max'</li>\n",
       "\t<li>'painmax'</li>\n",
       "\t<li>'bpdinvasive_min_avg'</li>\n",
       "\t<li>'bpsinvasive_max_avg'</li>\n",
       "\t<li>'bpsinvasive_min_avg'</li>\n",
       "\t<li>'bpdnoninvasive_min_avg'</li>\n",
       "\t<li>'bpsnoninvasive_min_avg'</li>\n",
       "\t<li>'bpsnoninvasive_max_avg'</li>\n",
       "\t<li>'bpdnoninvasive_max_avg'</li>\n",
       "\t<li>'bpdinvasive_max_avg'</li>\n",
       "\t<li>'hr_max_avg'</li>\n",
       "\t<li>'hr_min_avg'</li>\n",
       "\t<li>'rr_max_avg'</li>\n",
       "\t<li>'rr_min_avg'</li>\n",
       "\t<li>'temp_max_avg'</li>\n",
       "\t<li>'temp_min_avg'</li>\n",
       "\t<li>'spo2_min_avg'</li>\n",
       "\t<li>'painmin_avg'</li>\n",
       "\t<li>'painmean_avg'</li>\n",
       "\t<li>'painmax_avg'</li>\n",
       "\t<li>'n_miss_turn_avg'</li>\n",
       "\t<li>'steroid_used'</li>\n",
       "\t<li>'vasopressor_used'</li>\n",
       "\t<li>'parenteral_nutrition_used'</li>\n",
       "\t<li>'intubated_used'</li>\n",
       "\t<li>'incontinent_used'</li>\n",
       "\t<li>'fecaldevice_used'</li>\n",
       "\t<li>'potubefeed_used'</li>\n",
       "\t<li>'steroid_perc'</li>\n",
       "\t<li>'vasopressor_perc'</li>\n",
       "\t<li>'parenteral_nutrition_perc'</li>\n",
       "\t<li>'intubated_perc'</li>\n",
       "\t<li>'incontinent_perc'</li>\n",
       "\t<li>'fecaldevice_perc'</li>\n",
       "\t<li>'potubefeed_perc'</li>\n",
       "\t<li>'periop_sbpmin'</li>\n",
       "\t<li>'periop_diasbpmin'</li>\n",
       "\t<li>'periop_hrmin'</li>\n",
       "\t<li>'periop_rrmin'</li>\n",
       "\t<li>'periop_spo2min'</li>\n",
       "\t<li>'periop_tempmin'</li>\n",
       "\t<li>'periop_sbpmax'</li>\n",
       "\t<li>'periop_diasbpmax'</li>\n",
       "\t<li>'periop_hrmax'</li>\n",
       "\t<li>'periop_rrmax'</li>\n",
       "\t<li>'periop_spo2max'</li>\n",
       "\t<li>'periop_tempmax'</li>\n",
       "\t<li>'periop_sbpmin_avg'</li>\n",
       "\t<li>'periop_sbpmax_avg'</li>\n",
       "\t<li>'periop_sbpmean_avg'</li>\n",
       "\t<li>'periop_diasbpmin_avg'</li>\n",
       "\t<li>'periop_diasbpmax_avg'</li>\n",
       "\t<li>'periop_diasbpmean_avg'</li>\n",
       "\t<li>'periop_hrmin_avg'</li>\n",
       "\t<li>'periop_hrmax_avg'</li>\n",
       "\t<li>'periop_hrmean_avg'</li>\n",
       "\t<li>'periop_rrmin_avg'</li>\n",
       "\t<li>'periop_rrmax_avg'</li>\n",
       "\t<li>'periop_rrmean_avg'</li>\n",
       "\t<li>'periop_spo2min_avg'</li>\n",
       "\t<li>'periop_spo2max_avg'</li>\n",
       "\t<li>'periop_spo2mean_avg'</li>\n",
       "\t<li>'periop_tempmin_avg'</li>\n",
       "\t<li>'periop_tempmean_avg'</li>\n",
       "\t<li>'periop_steroid_used'</li>\n",
       "\t<li>'periop_vasopressor_used'</li>\n",
       "\t<li>'periop_vfib_yn_used'</li>\n",
       "\t<li>'periop_vtach_yn_used'</li>\n",
       "\t<li>'periop_asystole_yn_used'</li>\n",
       "\t<li>'periop_pea_yn_used'</li>\n",
       "\t<li>'periop_torsades_de_pointes_yn_used'</li>\n",
       "\t<li>'periop_afib_yn_used'</li>\n",
       "\t<li>'periop_aflutter_yn_used'</li>\n",
       "\t<li>'periop_svt_yn_used'</li>\n",
       "\t<li>'periop_first_heart_block_yn_used'</li>\n",
       "\t<li>'periop_second_heart_block_yn_used'</li>\n",
       "\t<li>'periop_third_heart_block_yn_used'</li>\n",
       "\t<li>'periop_paced_yn_used'</li>\n",
       "\t<li>'periop_steroid_perc'</li>\n",
       "\t<li>'periop_vasopressor_perc'</li>\n",
       "\t<li>'periop_vfib_yn_perc'</li>\n",
       "\t<li>'periop_vtach_yn_perc'</li>\n",
       "\t<li>'periop_asystole_yn_perc'</li>\n",
       "\t<li>'periop_pea_yn_perc'</li>\n",
       "\t<li>'periop_torsades_de_pointes_yn_perc'</li>\n",
       "\t<li>'periop_afib_yn_perc'</li>\n",
       "\t<li>'periop_aflutter_yn_perc'</li>\n",
       "\t<li>'periop_svt_yn_perc'</li>\n",
       "\t<li>'periop_first_heart_block_yn_perc'</li>\n",
       "\t<li>'periop_second_heart_block_yn_perc'</li>\n",
       "\t<li>'periop_third_heart_block_yn_perc'</li>\n",
       "\t<li>'periop_paced_yn_perc'</li>\n",
       "\t<li>'bradenactivitymin1'</li>\n",
       "\t<li>'bradenactivitymin2'</li>\n",
       "\t<li>'bradenactivitymin3'</li>\n",
       "\t<li>'bradenactivitymin4'</li>\n",
       "\t<li>'bradenactivitymax1'</li>\n",
       "\t<li>'bradenactivitymax2'</li>\n",
       "\t<li>'bradenactivitymax3'</li>\n",
       "\t<li>'bradenactivitymax4'</li>\n",
       "\t<li>'bradenmobilitymin1'</li>\n",
       "\t<li>'bradenmobilitymin2'</li>\n",
       "\t<li>'bradenmobilitymin3'</li>\n",
       "\t<li>'bradenmobilitymin4'</li>\n",
       "\t<li>'bradenmobilitymax1'</li>\n",
       "\t<li>'bradenmobilitymax2'</li>\n",
       "\t<li>'bradenmobilitymax3'</li>\n",
       "\t<li>'bradenmobilitymax4'</li>\n",
       "\t<li>'bradennutritionmin1'</li>\n",
       "\t<li>'bradennutritionmin2'</li>\n",
       "\t<li>'bradennutritionmin3'</li>\n",
       "\t<li>'bradennutritionmin4'</li>\n",
       "\t<li>'bradennutritionmax1'</li>\n",
       "\t<li>'bradennutritionmax2'</li>\n",
       "\t<li>'bradennutritionmax3'</li>\n",
       "\t<li>'bradennutritionmax4'</li>\n",
       "\t<li>'bradensenspercmin1'</li>\n",
       "\t<li>'bradensenspercmin2'</li>\n",
       "\t<li>'bradensenspercmin3'</li>\n",
       "\t<li>'bradensenspercmin4'</li>\n",
       "\t<li>'bradensenspercmax1'</li>\n",
       "\t<li>'bradensenspercmax2'</li>\n",
       "\t<li>'bradensenspercmax3'</li>\n",
       "\t<li>'bradensenspercmax4'</li>\n",
       "\t<li>'bradenmoistmin1'</li>\n",
       "\t<li>'bradenmoistmin2'</li>\n",
       "\t<li>'bradenmoistmin3'</li>\n",
       "\t<li>'bradenmoistmin4'</li>\n",
       "\t<li>'bradenmoistmax1'</li>\n",
       "\t<li>'bradenmoistmax2'</li>\n",
       "\t<li>'bradenmoistmax3'</li>\n",
       "\t<li>'bradenmoistmax4'</li>\n",
       "\t<li>'bradenfrictionsheermin1'</li>\n",
       "\t<li>'bradenfrictionsheermin2'</li>\n",
       "\t<li>'bradenfrictionsheermin3'</li>\n",
       "\t<li>'bradenfrictionsheermax1'</li>\n",
       "\t<li>'bradenfrictionsheermax2'</li>\n",
       "\t<li>'bradenfrictionsheermax3'</li>\n",
       "\t<li>'op_los'</li>\n",
       "\t<li>'anesth_duration'</li>\n",
       "\t<li>'inroom_time'</li>\n",
       "\t<li>'procedure_duration'</li>\n",
       "\t<li>'service_count'</li>\n",
       "\t<li>'schedule_count'</li>\n",
       "\t<li>'mean.total.hppd'</li>\n",
       "\t<li>'min.total.hppd'</li>\n",
       "\t<li>'max.total.hppd'</li>\n",
       "\t<li>'mean.rn.hppd'</li>\n",
       "\t<li>'min.rn.hppd'</li>\n",
       "\t<li>'max.rn.hppd'</li>\n",
       "\t<li>'asa_mean.y'</li>\n",
       "\t<li>'primaryfirst1duplicate_Duplicate.Case'</li>\n",
       "\t<li>'primaryfirst1duplicate_Primary.Case'</li>\n",
       "\t<li>'admissiontype_Emergency'</li>\n",
       "\t<li>'admissiontype_Scheduled'</li>\n",
       "\t<li>'admissiontype_Urgent'</li>\n",
       "\t<li>'gender_Female'</li>\n",
       "\t<li>'race_African.American'</li>\n",
       "\t<li>'race_American.Indian.or.Alaska.Native'</li>\n",
       "\t<li>'race_Asian'</li>\n",
       "\t<li>'race_Caucasian'</li>\n",
       "\t<li>'race_Native.Hawaiian.and.Other.Pacific.Islander'</li>\n",
       "\t<li>'race_Other'</li>\n",
       "\t<li>'race_Patient.Refused'</li>\n",
       "\t<li>'race_Unknown'</li>\n",
       "\t<li>'ethnicity_Hispanic.or.Latino'</li>\n",
       "\t<li>'ethnicity_Non.Hispanic.or.Latino'</li>\n",
       "\t<li>'ethnicity_Patient.Refused'</li>\n",
       "\t<li>'ethnicity_Unknown'</li>\n",
       "\t<li>'smokingstatus_Current'</li>\n",
       "\t<li>'smokingstatus_Former'</li>\n",
       "\t<li>'smokingstatus_Never'</li>\n",
       "\t<li>'smokingstatus_Unknown'</li>\n",
       "\t<li>'smokelessstatus_Current'</li>\n",
       "\t<li>'smokelessstatus_Former'</li>\n",
       "\t<li>'smokelessstatus_Never'</li>\n",
       "\t<li>'smokelessstatus_Unknown'</li>\n",
       "\t<li>'alcoholabuse_Yes'</li>\n",
       "\t<li>'bloodlossanemia_Yes'</li>\n",
       "\t<li>'cardiacarrhythmias_Yes'</li>\n",
       "\t<li>'chronicpulmonarydisease_Yes'</li>\n",
       "\t<li>'coagulopathy_Yes'</li>\n",
       "\t<li>'congestiveheartfailure_Yes'</li>\n",
       "\t<li>'deficiencyanemia_Yes'</li>\n",
       "\t<li>'depression_Yes'</li>\n",
       "\t<li>'diabetescomplicated_Yes'</li>\n",
       "\t<li>'diabetesuncomplicated_Yes'</li>\n",
       "\t<li>'drugabuse_Yes'</li>\n",
       "\t<li>'fluidelectrolytedisorders_Yes'</li>\n",
       "\t<li>'hypertensioncomplicated_Yes'</li>\n",
       "\t<li>'hypertensionuncomplicated_Yes'</li>\n",
       "\t<li>'hypothyroidism_Yes'</li>\n",
       "\t<li>'liverdisease_Yes'</li>\n",
       "\t<li>'lymphoma_Yes'</li>\n",
       "\t<li>'metastaticcancer_Yes'</li>\n",
       "\t<li>'obesity_Yes'</li>\n",
       "\t<li>'otherneurologicaldisorders_Yes'</li>\n",
       "\t<li>'paralysis_Yes'</li>\n",
       "\t<li>'pepticulcerdiseaseexcludingbleed_Yes'</li>\n",
       "\t<li>'peripheralvasculardisorders_Yes'</li>\n",
       "\t<li>'psychoses_Yes'</li>\n",
       "\t<li>'pulmonarycirculationdisorders_Yes'</li>\n",
       "\t<li>'renalfailure_Yes'</li>\n",
       "\t<li>'rheumatoidarthritiscollagenvascu_Yes'</li>\n",
       "\t<li>'solidtumorwithoutmetastasis_Yes'</li>\n",
       "\t<li>'valvulardisease_Yes'</li>\n",
       "\t<li>'weightloss_Yes'</li>\n",
       "</ol>\n"
      ],
      "text/latex": [
       "\\begin{enumerate*}\n",
       "\\item 'X0........000C1BA7.122E.E411.BC94.F0921C021BF8.1........000FD36B.E520.E511.AE88.F0921C021BF8.2........000FFA74.52CC.E411.8D38.F0921C021BF8.3........0014FADC.81EB.E311.B57F.F0921C021BF8.4........001D0E76.C7CC.E411.8D38.F0921C021BF8...............................................18938....FFF68729.2EBE.E411.949A.F0921C021BF8.18939....FFF95D81.F367.E511.A124.F0921C021BF8.18940....FFFA6165.05C6.E511.8BC0.F0921C021BF8.18941....FFFC2774.05FD.E411.846C.F0921C021BF8.18942....FFFF346E.C372.E511.A124.F0921C021BF8.Name..encounterid..Length..18943..dtype..object'\n",
       "\\item 'matchsequence'\n",
       "\\item 'ageinyears'\n",
       "\\item 'los'\n",
       "\\item 'icu\\_los'\n",
       "\\item 'pi'\n",
       "\\item 'tobaccopacksperday'\n",
       "\\item 'tobaccousedyears'\n",
       "\\item 'heightcm'\n",
       "\\item 'weightkg'\n",
       "\\item 'bmi'\n",
       "\\item 'lab\\_glucmin'\n",
       "\\item 'lab\\_glucmean'\n",
       "\\item 'lab\\_glucmax'\n",
       "\\item 'lab\\_gluccount'\n",
       "\\item 'lab\\_unmin'\n",
       "\\item 'lab\\_unmean'\n",
       "\\item 'lab\\_unmax'\n",
       "\\item 'lab\\_uncount'\n",
       "\\item 'lab\\_creatmin'\n",
       "\\item 'lab\\_creatmean'\n",
       "\\item 'lab\\_creatmax'\n",
       "\\item 'lab\\_creatcount'\n",
       "\\item 'lab\\_albmin'\n",
       "\\item 'lab\\_albmean'\n",
       "\\item 'lab\\_albmax'\n",
       "\\item 'lab\\_albcount'\n",
       "\\item 'lab\\_hgbmin'\n",
       "\\item 'lab\\_hgbmean'\n",
       "\\item 'lab\\_hgbmax'\n",
       "\\item 'lab\\_hgbcount'\n",
       "\\item 'bpdinvasive\\_min'\n",
       "\\item 'bpsinvasive\\_min'\n",
       "\\item 'bpdnoninvasive\\_min'\n",
       "\\item 'bpsnoninvasive\\_min'\n",
       "\\item 'hr\\_min'\n",
       "\\item 'rr\\_min'\n",
       "\\item 'temp\\_min'\n",
       "\\item 'spo2\\_min'\n",
       "\\item 'painmin'\n",
       "\\item 'bpsinvasive\\_max'\n",
       "\\item 'bpsnoninvasive\\_max'\n",
       "\\item 'bpdnoninvasive\\_max'\n",
       "\\item 'bpdinvasive\\_max'\n",
       "\\item 'hr\\_max'\n",
       "\\item 'rr\\_max'\n",
       "\\item 'temp\\_max'\n",
       "\\item 'painmax'\n",
       "\\item 'bpdinvasive\\_min\\_avg'\n",
       "\\item 'bpsinvasive\\_max\\_avg'\n",
       "\\item 'bpsinvasive\\_min\\_avg'\n",
       "\\item 'bpdnoninvasive\\_min\\_avg'\n",
       "\\item 'bpsnoninvasive\\_min\\_avg'\n",
       "\\item 'bpsnoninvasive\\_max\\_avg'\n",
       "\\item 'bpdnoninvasive\\_max\\_avg'\n",
       "\\item 'bpdinvasive\\_max\\_avg'\n",
       "\\item 'hr\\_max\\_avg'\n",
       "\\item 'hr\\_min\\_avg'\n",
       "\\item 'rr\\_max\\_avg'\n",
       "\\item 'rr\\_min\\_avg'\n",
       "\\item 'temp\\_max\\_avg'\n",
       "\\item 'temp\\_min\\_avg'\n",
       "\\item 'spo2\\_min\\_avg'\n",
       "\\item 'painmin\\_avg'\n",
       "\\item 'painmean\\_avg'\n",
       "\\item 'painmax\\_avg'\n",
       "\\item 'n\\_miss\\_turn\\_avg'\n",
       "\\item 'steroid\\_used'\n",
       "\\item 'vasopressor\\_used'\n",
       "\\item 'parenteral\\_nutrition\\_used'\n",
       "\\item 'intubated\\_used'\n",
       "\\item 'incontinent\\_used'\n",
       "\\item 'fecaldevice\\_used'\n",
       "\\item 'potubefeed\\_used'\n",
       "\\item 'steroid\\_perc'\n",
       "\\item 'vasopressor\\_perc'\n",
       "\\item 'parenteral\\_nutrition\\_perc'\n",
       "\\item 'intubated\\_perc'\n",
       "\\item 'incontinent\\_perc'\n",
       "\\item 'fecaldevice\\_perc'\n",
       "\\item 'potubefeed\\_perc'\n",
       "\\item 'periop\\_sbpmin'\n",
       "\\item 'periop\\_diasbpmin'\n",
       "\\item 'periop\\_hrmin'\n",
       "\\item 'periop\\_rrmin'\n",
       "\\item 'periop\\_spo2min'\n",
       "\\item 'periop\\_tempmin'\n",
       "\\item 'periop\\_sbpmax'\n",
       "\\item 'periop\\_diasbpmax'\n",
       "\\item 'periop\\_hrmax'\n",
       "\\item 'periop\\_rrmax'\n",
       "\\item 'periop\\_spo2max'\n",
       "\\item 'periop\\_tempmax'\n",
       "\\item 'periop\\_sbpmin\\_avg'\n",
       "\\item 'periop\\_sbpmax\\_avg'\n",
       "\\item 'periop\\_sbpmean\\_avg'\n",
       "\\item 'periop\\_diasbpmin\\_avg'\n",
       "\\item 'periop\\_diasbpmax\\_avg'\n",
       "\\item 'periop\\_diasbpmean\\_avg'\n",
       "\\item 'periop\\_hrmin\\_avg'\n",
       "\\item 'periop\\_hrmax\\_avg'\n",
       "\\item 'periop\\_hrmean\\_avg'\n",
       "\\item 'periop\\_rrmin\\_avg'\n",
       "\\item 'periop\\_rrmax\\_avg'\n",
       "\\item 'periop\\_rrmean\\_avg'\n",
       "\\item 'periop\\_spo2min\\_avg'\n",
       "\\item 'periop\\_spo2max\\_avg'\n",
       "\\item 'periop\\_spo2mean\\_avg'\n",
       "\\item 'periop\\_tempmin\\_avg'\n",
       "\\item 'periop\\_tempmean\\_avg'\n",
       "\\item 'periop\\_steroid\\_used'\n",
       "\\item 'periop\\_vasopressor\\_used'\n",
       "\\item 'periop\\_vfib\\_yn\\_used'\n",
       "\\item 'periop\\_vtach\\_yn\\_used'\n",
       "\\item 'periop\\_asystole\\_yn\\_used'\n",
       "\\item 'periop\\_pea\\_yn\\_used'\n",
       "\\item 'periop\\_torsades\\_de\\_pointes\\_yn\\_used'\n",
       "\\item 'periop\\_afib\\_yn\\_used'\n",
       "\\item 'periop\\_aflutter\\_yn\\_used'\n",
       "\\item 'periop\\_svt\\_yn\\_used'\n",
       "\\item 'periop\\_first\\_heart\\_block\\_yn\\_used'\n",
       "\\item 'periop\\_second\\_heart\\_block\\_yn\\_used'\n",
       "\\item 'periop\\_third\\_heart\\_block\\_yn\\_used'\n",
       "\\item 'periop\\_paced\\_yn\\_used'\n",
       "\\item 'periop\\_steroid\\_perc'\n",
       "\\item 'periop\\_vasopressor\\_perc'\n",
       "\\item 'periop\\_vfib\\_yn\\_perc'\n",
       "\\item 'periop\\_vtach\\_yn\\_perc'\n",
       "\\item 'periop\\_asystole\\_yn\\_perc'\n",
       "\\item 'periop\\_pea\\_yn\\_perc'\n",
       "\\item 'periop\\_torsades\\_de\\_pointes\\_yn\\_perc'\n",
       "\\item 'periop\\_afib\\_yn\\_perc'\n",
       "\\item 'periop\\_aflutter\\_yn\\_perc'\n",
       "\\item 'periop\\_svt\\_yn\\_perc'\n",
       "\\item 'periop\\_first\\_heart\\_block\\_yn\\_perc'\n",
       "\\item 'periop\\_second\\_heart\\_block\\_yn\\_perc'\n",
       "\\item 'periop\\_third\\_heart\\_block\\_yn\\_perc'\n",
       "\\item 'periop\\_paced\\_yn\\_perc'\n",
       "\\item 'bradenactivitymin1'\n",
       "\\item 'bradenactivitymin2'\n",
       "\\item 'bradenactivitymin3'\n",
       "\\item 'bradenactivitymin4'\n",
       "\\item 'bradenactivitymax1'\n",
       "\\item 'bradenactivitymax2'\n",
       "\\item 'bradenactivitymax3'\n",
       "\\item 'bradenactivitymax4'\n",
       "\\item 'bradenmobilitymin1'\n",
       "\\item 'bradenmobilitymin2'\n",
       "\\item 'bradenmobilitymin3'\n",
       "\\item 'bradenmobilitymin4'\n",
       "\\item 'bradenmobilitymax1'\n",
       "\\item 'bradenmobilitymax2'\n",
       "\\item 'bradenmobilitymax3'\n",
       "\\item 'bradenmobilitymax4'\n",
       "\\item 'bradennutritionmin1'\n",
       "\\item 'bradennutritionmin2'\n",
       "\\item 'bradennutritionmin3'\n",
       "\\item 'bradennutritionmin4'\n",
       "\\item 'bradennutritionmax1'\n",
       "\\item 'bradennutritionmax2'\n",
       "\\item 'bradennutritionmax3'\n",
       "\\item 'bradennutritionmax4'\n",
       "\\item 'bradensenspercmin1'\n",
       "\\item 'bradensenspercmin2'\n",
       "\\item 'bradensenspercmin3'\n",
       "\\item 'bradensenspercmin4'\n",
       "\\item 'bradensenspercmax1'\n",
       "\\item 'bradensenspercmax2'\n",
       "\\item 'bradensenspercmax3'\n",
       "\\item 'bradensenspercmax4'\n",
       "\\item 'bradenmoistmin1'\n",
       "\\item 'bradenmoistmin2'\n",
       "\\item 'bradenmoistmin3'\n",
       "\\item 'bradenmoistmin4'\n",
       "\\item 'bradenmoistmax1'\n",
       "\\item 'bradenmoistmax2'\n",
       "\\item 'bradenmoistmax3'\n",
       "\\item 'bradenmoistmax4'\n",
       "\\item 'bradenfrictionsheermin1'\n",
       "\\item 'bradenfrictionsheermin2'\n",
       "\\item 'bradenfrictionsheermin3'\n",
       "\\item 'bradenfrictionsheermax1'\n",
       "\\item 'bradenfrictionsheermax2'\n",
       "\\item 'bradenfrictionsheermax3'\n",
       "\\item 'op\\_los'\n",
       "\\item 'anesth\\_duration'\n",
       "\\item 'inroom\\_time'\n",
       "\\item 'procedure\\_duration'\n",
       "\\item 'service\\_count'\n",
       "\\item 'schedule\\_count'\n",
       "\\item 'mean.total.hppd'\n",
       "\\item 'min.total.hppd'\n",
       "\\item 'max.total.hppd'\n",
       "\\item 'mean.rn.hppd'\n",
       "\\item 'min.rn.hppd'\n",
       "\\item 'max.rn.hppd'\n",
       "\\item 'asa\\_mean.y'\n",
       "\\item 'primaryfirst1duplicate\\_Duplicate.Case'\n",
       "\\item 'primaryfirst1duplicate\\_Primary.Case'\n",
       "\\item 'admissiontype\\_Emergency'\n",
       "\\item 'admissiontype\\_Scheduled'\n",
       "\\item 'admissiontype\\_Urgent'\n",
       "\\item 'gender\\_Female'\n",
       "\\item 'race\\_African.American'\n",
       "\\item 'race\\_American.Indian.or.Alaska.Native'\n",
       "\\item 'race\\_Asian'\n",
       "\\item 'race\\_Caucasian'\n",
       "\\item 'race\\_Native.Hawaiian.and.Other.Pacific.Islander'\n",
       "\\item 'race\\_Other'\n",
       "\\item 'race\\_Patient.Refused'\n",
       "\\item 'race\\_Unknown'\n",
       "\\item 'ethnicity\\_Hispanic.or.Latino'\n",
       "\\item 'ethnicity\\_Non.Hispanic.or.Latino'\n",
       "\\item 'ethnicity\\_Patient.Refused'\n",
       "\\item 'ethnicity\\_Unknown'\n",
       "\\item 'smokingstatus\\_Current'\n",
       "\\item 'smokingstatus\\_Former'\n",
       "\\item 'smokingstatus\\_Never'\n",
       "\\item 'smokingstatus\\_Unknown'\n",
       "\\item 'smokelessstatus\\_Current'\n",
       "\\item 'smokelessstatus\\_Former'\n",
       "\\item 'smokelessstatus\\_Never'\n",
       "\\item 'smokelessstatus\\_Unknown'\n",
       "\\item 'alcoholabuse\\_Yes'\n",
       "\\item 'bloodlossanemia\\_Yes'\n",
       "\\item 'cardiacarrhythmias\\_Yes'\n",
       "\\item 'chronicpulmonarydisease\\_Yes'\n",
       "\\item 'coagulopathy\\_Yes'\n",
       "\\item 'congestiveheartfailure\\_Yes'\n",
       "\\item 'deficiencyanemia\\_Yes'\n",
       "\\item 'depression\\_Yes'\n",
       "\\item 'diabetescomplicated\\_Yes'\n",
       "\\item 'diabetesuncomplicated\\_Yes'\n",
       "\\item 'drugabuse\\_Yes'\n",
       "\\item 'fluidelectrolytedisorders\\_Yes'\n",
       "\\item 'hypertensioncomplicated\\_Yes'\n",
       "\\item 'hypertensionuncomplicated\\_Yes'\n",
       "\\item 'hypothyroidism\\_Yes'\n",
       "\\item 'liverdisease\\_Yes'\n",
       "\\item 'lymphoma\\_Yes'\n",
       "\\item 'metastaticcancer\\_Yes'\n",
       "\\item 'obesity\\_Yes'\n",
       "\\item 'otherneurologicaldisorders\\_Yes'\n",
       "\\item 'paralysis\\_Yes'\n",
       "\\item 'pepticulcerdiseaseexcludingbleed\\_Yes'\n",
       "\\item 'peripheralvasculardisorders\\_Yes'\n",
       "\\item 'psychoses\\_Yes'\n",
       "\\item 'pulmonarycirculationdisorders\\_Yes'\n",
       "\\item 'renalfailure\\_Yes'\n",
       "\\item 'rheumatoidarthritiscollagenvascu\\_Yes'\n",
       "\\item 'solidtumorwithoutmetastasis\\_Yes'\n",
       "\\item 'valvulardisease\\_Yes'\n",
       "\\item 'weightloss\\_Yes'\n",
       "\\end{enumerate*}\n"
      ],
      "text/markdown": [
       "1. 'X0........000C1BA7.122E.E411.BC94.F0921C021BF8.1........000FD36B.E520.E511.AE88.F0921C021BF8.2........000FFA74.52CC.E411.8D38.F0921C021BF8.3........0014FADC.81EB.E311.B57F.F0921C021BF8.4........001D0E76.C7CC.E411.8D38.F0921C021BF8...............................................18938....FFF68729.2EBE.E411.949A.F0921C021BF8.18939....FFF95D81.F367.E511.A124.F0921C021BF8.18940....FFFA6165.05C6.E511.8BC0.F0921C021BF8.18941....FFFC2774.05FD.E411.846C.F0921C021BF8.18942....FFFF346E.C372.E511.A124.F0921C021BF8.Name..encounterid..Length..18943..dtype..object'\n",
       "2. 'matchsequence'\n",
       "3. 'ageinyears'\n",
       "4. 'los'\n",
       "5. 'icu_los'\n",
       "6. 'pi'\n",
       "7. 'tobaccopacksperday'\n",
       "8. 'tobaccousedyears'\n",
       "9. 'heightcm'\n",
       "10. 'weightkg'\n",
       "11. 'bmi'\n",
       "12. 'lab_glucmin'\n",
       "13. 'lab_glucmean'\n",
       "14. 'lab_glucmax'\n",
       "15. 'lab_gluccount'\n",
       "16. 'lab_unmin'\n",
       "17. 'lab_unmean'\n",
       "18. 'lab_unmax'\n",
       "19. 'lab_uncount'\n",
       "20. 'lab_creatmin'\n",
       "21. 'lab_creatmean'\n",
       "22. 'lab_creatmax'\n",
       "23. 'lab_creatcount'\n",
       "24. 'lab_albmin'\n",
       "25. 'lab_albmean'\n",
       "26. 'lab_albmax'\n",
       "27. 'lab_albcount'\n",
       "28. 'lab_hgbmin'\n",
       "29. 'lab_hgbmean'\n",
       "30. 'lab_hgbmax'\n",
       "31. 'lab_hgbcount'\n",
       "32. 'bpdinvasive_min'\n",
       "33. 'bpsinvasive_min'\n",
       "34. 'bpdnoninvasive_min'\n",
       "35. 'bpsnoninvasive_min'\n",
       "36. 'hr_min'\n",
       "37. 'rr_min'\n",
       "38. 'temp_min'\n",
       "39. 'spo2_min'\n",
       "40. 'painmin'\n",
       "41. 'bpsinvasive_max'\n",
       "42. 'bpsnoninvasive_max'\n",
       "43. 'bpdnoninvasive_max'\n",
       "44. 'bpdinvasive_max'\n",
       "45. 'hr_max'\n",
       "46. 'rr_max'\n",
       "47. 'temp_max'\n",
       "48. 'painmax'\n",
       "49. 'bpdinvasive_min_avg'\n",
       "50. 'bpsinvasive_max_avg'\n",
       "51. 'bpsinvasive_min_avg'\n",
       "52. 'bpdnoninvasive_min_avg'\n",
       "53. 'bpsnoninvasive_min_avg'\n",
       "54. 'bpsnoninvasive_max_avg'\n",
       "55. 'bpdnoninvasive_max_avg'\n",
       "56. 'bpdinvasive_max_avg'\n",
       "57. 'hr_max_avg'\n",
       "58. 'hr_min_avg'\n",
       "59. 'rr_max_avg'\n",
       "60. 'rr_min_avg'\n",
       "61. 'temp_max_avg'\n",
       "62. 'temp_min_avg'\n",
       "63. 'spo2_min_avg'\n",
       "64. 'painmin_avg'\n",
       "65. 'painmean_avg'\n",
       "66. 'painmax_avg'\n",
       "67. 'n_miss_turn_avg'\n",
       "68. 'steroid_used'\n",
       "69. 'vasopressor_used'\n",
       "70. 'parenteral_nutrition_used'\n",
       "71. 'intubated_used'\n",
       "72. 'incontinent_used'\n",
       "73. 'fecaldevice_used'\n",
       "74. 'potubefeed_used'\n",
       "75. 'steroid_perc'\n",
       "76. 'vasopressor_perc'\n",
       "77. 'parenteral_nutrition_perc'\n",
       "78. 'intubated_perc'\n",
       "79. 'incontinent_perc'\n",
       "80. 'fecaldevice_perc'\n",
       "81. 'potubefeed_perc'\n",
       "82. 'periop_sbpmin'\n",
       "83. 'periop_diasbpmin'\n",
       "84. 'periop_hrmin'\n",
       "85. 'periop_rrmin'\n",
       "86. 'periop_spo2min'\n",
       "87. 'periop_tempmin'\n",
       "88. 'periop_sbpmax'\n",
       "89. 'periop_diasbpmax'\n",
       "90. 'periop_hrmax'\n",
       "91. 'periop_rrmax'\n",
       "92. 'periop_spo2max'\n",
       "93. 'periop_tempmax'\n",
       "94. 'periop_sbpmin_avg'\n",
       "95. 'periop_sbpmax_avg'\n",
       "96. 'periop_sbpmean_avg'\n",
       "97. 'periop_diasbpmin_avg'\n",
       "98. 'periop_diasbpmax_avg'\n",
       "99. 'periop_diasbpmean_avg'\n",
       "100. 'periop_hrmin_avg'\n",
       "101. 'periop_hrmax_avg'\n",
       "102. 'periop_hrmean_avg'\n",
       "103. 'periop_rrmin_avg'\n",
       "104. 'periop_rrmax_avg'\n",
       "105. 'periop_rrmean_avg'\n",
       "106. 'periop_spo2min_avg'\n",
       "107. 'periop_spo2max_avg'\n",
       "108. 'periop_spo2mean_avg'\n",
       "109. 'periop_tempmin_avg'\n",
       "110. 'periop_tempmean_avg'\n",
       "111. 'periop_steroid_used'\n",
       "112. 'periop_vasopressor_used'\n",
       "113. 'periop_vfib_yn_used'\n",
       "114. 'periop_vtach_yn_used'\n",
       "115. 'periop_asystole_yn_used'\n",
       "116. 'periop_pea_yn_used'\n",
       "117. 'periop_torsades_de_pointes_yn_used'\n",
       "118. 'periop_afib_yn_used'\n",
       "119. 'periop_aflutter_yn_used'\n",
       "120. 'periop_svt_yn_used'\n",
       "121. 'periop_first_heart_block_yn_used'\n",
       "122. 'periop_second_heart_block_yn_used'\n",
       "123. 'periop_third_heart_block_yn_used'\n",
       "124. 'periop_paced_yn_used'\n",
       "125. 'periop_steroid_perc'\n",
       "126. 'periop_vasopressor_perc'\n",
       "127. 'periop_vfib_yn_perc'\n",
       "128. 'periop_vtach_yn_perc'\n",
       "129. 'periop_asystole_yn_perc'\n",
       "130. 'periop_pea_yn_perc'\n",
       "131. 'periop_torsades_de_pointes_yn_perc'\n",
       "132. 'periop_afib_yn_perc'\n",
       "133. 'periop_aflutter_yn_perc'\n",
       "134. 'periop_svt_yn_perc'\n",
       "135. 'periop_first_heart_block_yn_perc'\n",
       "136. 'periop_second_heart_block_yn_perc'\n",
       "137. 'periop_third_heart_block_yn_perc'\n",
       "138. 'periop_paced_yn_perc'\n",
       "139. 'bradenactivitymin1'\n",
       "140. 'bradenactivitymin2'\n",
       "141. 'bradenactivitymin3'\n",
       "142. 'bradenactivitymin4'\n",
       "143. 'bradenactivitymax1'\n",
       "144. 'bradenactivitymax2'\n",
       "145. 'bradenactivitymax3'\n",
       "146. 'bradenactivitymax4'\n",
       "147. 'bradenmobilitymin1'\n",
       "148. 'bradenmobilitymin2'\n",
       "149. 'bradenmobilitymin3'\n",
       "150. 'bradenmobilitymin4'\n",
       "151. 'bradenmobilitymax1'\n",
       "152. 'bradenmobilitymax2'\n",
       "153. 'bradenmobilitymax3'\n",
       "154. 'bradenmobilitymax4'\n",
       "155. 'bradennutritionmin1'\n",
       "156. 'bradennutritionmin2'\n",
       "157. 'bradennutritionmin3'\n",
       "158. 'bradennutritionmin4'\n",
       "159. 'bradennutritionmax1'\n",
       "160. 'bradennutritionmax2'\n",
       "161. 'bradennutritionmax3'\n",
       "162. 'bradennutritionmax4'\n",
       "163. 'bradensenspercmin1'\n",
       "164. 'bradensenspercmin2'\n",
       "165. 'bradensenspercmin3'\n",
       "166. 'bradensenspercmin4'\n",
       "167. 'bradensenspercmax1'\n",
       "168. 'bradensenspercmax2'\n",
       "169. 'bradensenspercmax3'\n",
       "170. 'bradensenspercmax4'\n",
       "171. 'bradenmoistmin1'\n",
       "172. 'bradenmoistmin2'\n",
       "173. 'bradenmoistmin3'\n",
       "174. 'bradenmoistmin4'\n",
       "175. 'bradenmoistmax1'\n",
       "176. 'bradenmoistmax2'\n",
       "177. 'bradenmoistmax3'\n",
       "178. 'bradenmoistmax4'\n",
       "179. 'bradenfrictionsheermin1'\n",
       "180. 'bradenfrictionsheermin2'\n",
       "181. 'bradenfrictionsheermin3'\n",
       "182. 'bradenfrictionsheermax1'\n",
       "183. 'bradenfrictionsheermax2'\n",
       "184. 'bradenfrictionsheermax3'\n",
       "185. 'op_los'\n",
       "186. 'anesth_duration'\n",
       "187. 'inroom_time'\n",
       "188. 'procedure_duration'\n",
       "189. 'service_count'\n",
       "190. 'schedule_count'\n",
       "191. 'mean.total.hppd'\n",
       "192. 'min.total.hppd'\n",
       "193. 'max.total.hppd'\n",
       "194. 'mean.rn.hppd'\n",
       "195. 'min.rn.hppd'\n",
       "196. 'max.rn.hppd'\n",
       "197. 'asa_mean.y'\n",
       "198. 'primaryfirst1duplicate_Duplicate.Case'\n",
       "199. 'primaryfirst1duplicate_Primary.Case'\n",
       "200. 'admissiontype_Emergency'\n",
       "201. 'admissiontype_Scheduled'\n",
       "202. 'admissiontype_Urgent'\n",
       "203. 'gender_Female'\n",
       "204. 'race_African.American'\n",
       "205. 'race_American.Indian.or.Alaska.Native'\n",
       "206. 'race_Asian'\n",
       "207. 'race_Caucasian'\n",
       "208. 'race_Native.Hawaiian.and.Other.Pacific.Islander'\n",
       "209. 'race_Other'\n",
       "210. 'race_Patient.Refused'\n",
       "211. 'race_Unknown'\n",
       "212. 'ethnicity_Hispanic.or.Latino'\n",
       "213. 'ethnicity_Non.Hispanic.or.Latino'\n",
       "214. 'ethnicity_Patient.Refused'\n",
       "215. 'ethnicity_Unknown'\n",
       "216. 'smokingstatus_Current'\n",
       "217. 'smokingstatus_Former'\n",
       "218. 'smokingstatus_Never'\n",
       "219. 'smokingstatus_Unknown'\n",
       "220. 'smokelessstatus_Current'\n",
       "221. 'smokelessstatus_Former'\n",
       "222. 'smokelessstatus_Never'\n",
       "223. 'smokelessstatus_Unknown'\n",
       "224. 'alcoholabuse_Yes'\n",
       "225. 'bloodlossanemia_Yes'\n",
       "226. 'cardiacarrhythmias_Yes'\n",
       "227. 'chronicpulmonarydisease_Yes'\n",
       "228. 'coagulopathy_Yes'\n",
       "229. 'congestiveheartfailure_Yes'\n",
       "230. 'deficiencyanemia_Yes'\n",
       "231. 'depression_Yes'\n",
       "232. 'diabetescomplicated_Yes'\n",
       "233. 'diabetesuncomplicated_Yes'\n",
       "234. 'drugabuse_Yes'\n",
       "235. 'fluidelectrolytedisorders_Yes'\n",
       "236. 'hypertensioncomplicated_Yes'\n",
       "237. 'hypertensionuncomplicated_Yes'\n",
       "238. 'hypothyroidism_Yes'\n",
       "239. 'liverdisease_Yes'\n",
       "240. 'lymphoma_Yes'\n",
       "241. 'metastaticcancer_Yes'\n",
       "242. 'obesity_Yes'\n",
       "243. 'otherneurologicaldisorders_Yes'\n",
       "244. 'paralysis_Yes'\n",
       "245. 'pepticulcerdiseaseexcludingbleed_Yes'\n",
       "246. 'peripheralvasculardisorders_Yes'\n",
       "247. 'psychoses_Yes'\n",
       "248. 'pulmonarycirculationdisorders_Yes'\n",
       "249. 'renalfailure_Yes'\n",
       "250. 'rheumatoidarthritiscollagenvascu_Yes'\n",
       "251. 'solidtumorwithoutmetastasis_Yes'\n",
       "252. 'valvulardisease_Yes'\n",
       "253. 'weightloss_Yes'\n",
       "\n",
       "\n"
      ],
      "text/plain": [
       "  [1] \"X0........000C1BA7.122E.E411.BC94.F0921C021BF8.1........000FD36B.E520.E511.AE88.F0921C021BF8.2........000FFA74.52CC.E411.8D38.F0921C021BF8.3........0014FADC.81EB.E311.B57F.F0921C021BF8.4........001D0E76.C7CC.E411.8D38.F0921C021BF8...............................................18938....FFF68729.2EBE.E411.949A.F0921C021BF8.18939....FFF95D81.F367.E511.A124.F0921C021BF8.18940....FFFA6165.05C6.E511.8BC0.F0921C021BF8.18941....FFFC2774.05FD.E411.846C.F0921C021BF8.18942....FFFF346E.C372.E511.A124.F0921C021BF8.Name..encounterid..Length..18943..dtype..object\"\n",
       "  [2] \"matchsequence\"                                                                                                                                                                                                                                                                                                                                                                                                                                                                                                                                                             \n",
       "  [3] \"ageinyears\"                                                                                                                                                                                                                                                                                                                                                                                                                                                                                                                                                                \n",
       "  [4] \"los\"                                                                                                                                                                                                                                                                                                                                                                                                                                                                                                                                                                       \n",
       "  [5] \"icu_los\"                                                                                                                                                                                                                                                                                                                                                                                                                                                                                                                                                                   \n",
       "  [6] \"pi\"                                                                                                                                                                                                                                                                                                                                                                                                                                                                                                                                                                        \n",
       "  [7] \"tobaccopacksperday\"                                                                                                                                                                                                                                                                                                                                                                                                                                                                                                                                                        \n",
       "  [8] \"tobaccousedyears\"                                                                                                                                                                                                                                                                                                                                                                                                                                                                                                                                                          \n",
       "  [9] \"heightcm\"                                                                                                                                                                                                                                                                                                                                                                                                                                                                                                                                                                  \n",
       " [10] \"weightkg\"                                                                                                                                                                                                                                                                                                                                                                                                                                                                                                                                                                  \n",
       " [11] \"bmi\"                                                                                                                                                                                                                                                                                                                                                                                                                                                                                                                                                                       \n",
       " [12] \"lab_glucmin\"                                                                                                                                                                                                                                                                                                                                                                                                                                                                                                                                                               \n",
       " [13] \"lab_glucmean\"                                                                                                                                                                                                                                                                                                                                                                                                                                                                                                                                                              \n",
       " [14] \"lab_glucmax\"                                                                                                                                                                                                                                                                                                                                                                                                                                                                                                                                                               \n",
       " [15] \"lab_gluccount\"                                                                                                                                                                                                                                                                                                                                                                                                                                                                                                                                                             \n",
       " [16] \"lab_unmin\"                                                                                                                                                                                                                                                                                                                                                                                                                                                                                                                                                                 \n",
       " [17] \"lab_unmean\"                                                                                                                                                                                                                                                                                                                                                                                                                                                                                                                                                                \n",
       " [18] \"lab_unmax\"                                                                                                                                                                                                                                                                                                                                                                                                                                                                                                                                                                 \n",
       " [19] \"lab_uncount\"                                                                                                                                                                                                                                                                                                                                                                                                                                                                                                                                                               \n",
       " [20] \"lab_creatmin\"                                                                                                                                                                                                                                                                                                                                                                                                                                                                                                                                                              \n",
       " [21] \"lab_creatmean\"                                                                                                                                                                                                                                                                                                                                                                                                                                                                                                                                                             \n",
       " [22] \"lab_creatmax\"                                                                                                                                                                                                                                                                                                                                                                                                                                                                                                                                                              \n",
       " [23] \"lab_creatcount\"                                                                                                                                                                                                                                                                                                                                                                                                                                                                                                                                                            \n",
       " [24] \"lab_albmin\"                                                                                                                                                                                                                                                                                                                                                                                                                                                                                                                                                                \n",
       " [25] \"lab_albmean\"                                                                                                                                                                                                                                                                                                                                                                                                                                                                                                                                                               \n",
       " [26] \"lab_albmax\"                                                                                                                                                                                                                                                                                                                                                                                                                                                                                                                                                                \n",
       " [27] \"lab_albcount\"                                                                                                                                                                                                                                                                                                                                                                                                                                                                                                                                                              \n",
       " [28] \"lab_hgbmin\"                                                                                                                                                                                                                                                                                                                                                                                                                                                                                                                                                                \n",
       " [29] \"lab_hgbmean\"                                                                                                                                                                                                                                                                                                                                                                                                                                                                                                                                                               \n",
       " [30] \"lab_hgbmax\"                                                                                                                                                                                                                                                                                                                                                                                                                                                                                                                                                                \n",
       " [31] \"lab_hgbcount\"                                                                                                                                                                                                                                                                                                                                                                                                                                                                                                                                                              \n",
       " [32] \"bpdinvasive_min\"                                                                                                                                                                                                                                                                                                                                                                                                                                                                                                                                                           \n",
       " [33] \"bpsinvasive_min\"                                                                                                                                                                                                                                                                                                                                                                                                                                                                                                                                                           \n",
       " [34] \"bpdnoninvasive_min\"                                                                                                                                                                                                                                                                                                                                                                                                                                                                                                                                                        \n",
       " [35] \"bpsnoninvasive_min\"                                                                                                                                                                                                                                                                                                                                                                                                                                                                                                                                                        \n",
       " [36] \"hr_min\"                                                                                                                                                                                                                                                                                                                                                                                                                                                                                                                                                                    \n",
       " [37] \"rr_min\"                                                                                                                                                                                                                                                                                                                                                                                                                                                                                                                                                                    \n",
       " [38] \"temp_min\"                                                                                                                                                                                                                                                                                                                                                                                                                                                                                                                                                                  \n",
       " [39] \"spo2_min\"                                                                                                                                                                                                                                                                                                                                                                                                                                                                                                                                                                  \n",
       " [40] \"painmin\"                                                                                                                                                                                                                                                                                                                                                                                                                                                                                                                                                                   \n",
       " [41] \"bpsinvasive_max\"                                                                                                                                                                                                                                                                                                                                                                                                                                                                                                                                                           \n",
       " [42] \"bpsnoninvasive_max\"                                                                                                                                                                                                                                                                                                                                                                                                                                                                                                                                                        \n",
       " [43] \"bpdnoninvasive_max\"                                                                                                                                                                                                                                                                                                                                                                                                                                                                                                                                                        \n",
       " [44] \"bpdinvasive_max\"                                                                                                                                                                                                                                                                                                                                                                                                                                                                                                                                                           \n",
       " [45] \"hr_max\"                                                                                                                                                                                                                                                                                                                                                                                                                                                                                                                                                                    \n",
       " [46] \"rr_max\"                                                                                                                                                                                                                                                                                                                                                                                                                                                                                                                                                                    \n",
       " [47] \"temp_max\"                                                                                                                                                                                                                                                                                                                                                                                                                                                                                                                                                                  \n",
       " [48] \"painmax\"                                                                                                                                                                                                                                                                                                                                                                                                                                                                                                                                                                   \n",
       " [49] \"bpdinvasive_min_avg\"                                                                                                                                                                                                                                                                                                                                                                                                                                                                                                                                                       \n",
       " [50] \"bpsinvasive_max_avg\"                                                                                                                                                                                                                                                                                                                                                                                                                                                                                                                                                       \n",
       " [51] \"bpsinvasive_min_avg\"                                                                                                                                                                                                                                                                                                                                                                                                                                                                                                                                                       \n",
       " [52] \"bpdnoninvasive_min_avg\"                                                                                                                                                                                                                                                                                                                                                                                                                                                                                                                                                    \n",
       " [53] \"bpsnoninvasive_min_avg\"                                                                                                                                                                                                                                                                                                                                                                                                                                                                                                                                                    \n",
       " [54] \"bpsnoninvasive_max_avg\"                                                                                                                                                                                                                                                                                                                                                                                                                                                                                                                                                    \n",
       " [55] \"bpdnoninvasive_max_avg\"                                                                                                                                                                                                                                                                                                                                                                                                                                                                                                                                                    \n",
       " [56] \"bpdinvasive_max_avg\"                                                                                                                                                                                                                                                                                                                                                                                                                                                                                                                                                       \n",
       " [57] \"hr_max_avg\"                                                                                                                                                                                                                                                                                                                                                                                                                                                                                                                                                                \n",
       " [58] \"hr_min_avg\"                                                                                                                                                                                                                                                                                                                                                                                                                                                                                                                                                                \n",
       " [59] \"rr_max_avg\"                                                                                                                                                                                                                                                                                                                                                                                                                                                                                                                                                                \n",
       " [60] \"rr_min_avg\"                                                                                                                                                                                                                                                                                                                                                                                                                                                                                                                                                                \n",
       " [61] \"temp_max_avg\"                                                                                                                                                                                                                                                                                                                                                                                                                                                                                                                                                              \n",
       " [62] \"temp_min_avg\"                                                                                                                                                                                                                                                                                                                                                                                                                                                                                                                                                              \n",
       " [63] \"spo2_min_avg\"                                                                                                                                                                                                                                                                                                                                                                                                                                                                                                                                                              \n",
       " [64] \"painmin_avg\"                                                                                                                                                                                                                                                                                                                                                                                                                                                                                                                                                               \n",
       " [65] \"painmean_avg\"                                                                                                                                                                                                                                                                                                                                                                                                                                                                                                                                                              \n",
       " [66] \"painmax_avg\"                                                                                                                                                                                                                                                                                                                                                                                                                                                                                                                                                               \n",
       " [67] \"n_miss_turn_avg\"                                                                                                                                                                                                                                                                                                                                                                                                                                                                                                                                                           \n",
       " [68] \"steroid_used\"                                                                                                                                                                                                                                                                                                                                                                                                                                                                                                                                                              \n",
       " [69] \"vasopressor_used\"                                                                                                                                                                                                                                                                                                                                                                                                                                                                                                                                                          \n",
       " [70] \"parenteral_nutrition_used\"                                                                                                                                                                                                                                                                                                                                                                                                                                                                                                                                                 \n",
       " [71] \"intubated_used\"                                                                                                                                                                                                                                                                                                                                                                                                                                                                                                                                                            \n",
       " [72] \"incontinent_used\"                                                                                                                                                                                                                                                                                                                                                                                                                                                                                                                                                          \n",
       " [73] \"fecaldevice_used\"                                                                                                                                                                                                                                                                                                                                                                                                                                                                                                                                                          \n",
       " [74] \"potubefeed_used\"                                                                                                                                                                                                                                                                                                                                                                                                                                                                                                                                                           \n",
       " [75] \"steroid_perc\"                                                                                                                                                                                                                                                                                                                                                                                                                                                                                                                                                              \n",
       " [76] \"vasopressor_perc\"                                                                                                                                                                                                                                                                                                                                                                                                                                                                                                                                                          \n",
       " [77] \"parenteral_nutrition_perc\"                                                                                                                                                                                                                                                                                                                                                                                                                                                                                                                                                 \n",
       " [78] \"intubated_perc\"                                                                                                                                                                                                                                                                                                                                                                                                                                                                                                                                                            \n",
       " [79] \"incontinent_perc\"                                                                                                                                                                                                                                                                                                                                                                                                                                                                                                                                                          \n",
       " [80] \"fecaldevice_perc\"                                                                                                                                                                                                                                                                                                                                                                                                                                                                                                                                                          \n",
       " [81] \"potubefeed_perc\"                                                                                                                                                                                                                                                                                                                                                                                                                                                                                                                                                           \n",
       " [82] \"periop_sbpmin\"                                                                                                                                                                                                                                                                                                                                                                                                                                                                                                                                                             \n",
       " [83] \"periop_diasbpmin\"                                                                                                                                                                                                                                                                                                                                                                                                                                                                                                                                                          \n",
       " [84] \"periop_hrmin\"                                                                                                                                                                                                                                                                                                                                                                                                                                                                                                                                                              \n",
       " [85] \"periop_rrmin\"                                                                                                                                                                                                                                                                                                                                                                                                                                                                                                                                                              \n",
       " [86] \"periop_spo2min\"                                                                                                                                                                                                                                                                                                                                                                                                                                                                                                                                                            \n",
       " [87] \"periop_tempmin\"                                                                                                                                                                                                                                                                                                                                                                                                                                                                                                                                                            \n",
       " [88] \"periop_sbpmax\"                                                                                                                                                                                                                                                                                                                                                                                                                                                                                                                                                             \n",
       " [89] \"periop_diasbpmax\"                                                                                                                                                                                                                                                                                                                                                                                                                                                                                                                                                          \n",
       " [90] \"periop_hrmax\"                                                                                                                                                                                                                                                                                                                                                                                                                                                                                                                                                              \n",
       " [91] \"periop_rrmax\"                                                                                                                                                                                                                                                                                                                                                                                                                                                                                                                                                              \n",
       " [92] \"periop_spo2max\"                                                                                                                                                                                                                                                                                                                                                                                                                                                                                                                                                            \n",
       " [93] \"periop_tempmax\"                                                                                                                                                                                                                                                                                                                                                                                                                                                                                                                                                            \n",
       " [94] \"periop_sbpmin_avg\"                                                                                                                                                                                                                                                                                                                                                                                                                                                                                                                                                         \n",
       " [95] \"periop_sbpmax_avg\"                                                                                                                                                                                                                                                                                                                                                                                                                                                                                                                                                         \n",
       " [96] \"periop_sbpmean_avg\"                                                                                                                                                                                                                                                                                                                                                                                                                                                                                                                                                        \n",
       " [97] \"periop_diasbpmin_avg\"                                                                                                                                                                                                                                                                                                                                                                                                                                                                                                                                                      \n",
       " [98] \"periop_diasbpmax_avg\"                                                                                                                                                                                                                                                                                                                                                                                                                                                                                                                                                      \n",
       " [99] \"periop_diasbpmean_avg\"                                                                                                                                                                                                                                                                                                                                                                                                                                                                                                                                                     \n",
       "[100] \"periop_hrmin_avg\"                                                                                                                                                                                                                                                                                                                                                                                                                                                                                                                                                          \n",
       "[101] \"periop_hrmax_avg\"                                                                                                                                                                                                                                                                                                                                                                                                                                                                                                                                                          \n",
       "[102] \"periop_hrmean_avg\"                                                                                                                                                                                                                                                                                                                                                                                                                                                                                                                                                         \n",
       "[103] \"periop_rrmin_avg\"                                                                                                                                                                                                                                                                                                                                                                                                                                                                                                                                                          \n",
       "[104] \"periop_rrmax_avg\"                                                                                                                                                                                                                                                                                                                                                                                                                                                                                                                                                          \n",
       "[105] \"periop_rrmean_avg\"                                                                                                                                                                                                                                                                                                                                                                                                                                                                                                                                                         \n",
       "[106] \"periop_spo2min_avg\"                                                                                                                                                                                                                                                                                                                                                                                                                                                                                                                                                        \n",
       "[107] \"periop_spo2max_avg\"                                                                                                                                                                                                                                                                                                                                                                                                                                                                                                                                                        \n",
       "[108] \"periop_spo2mean_avg\"                                                                                                                                                                                                                                                                                                                                                                                                                                                                                                                                                       \n",
       "[109] \"periop_tempmin_avg\"                                                                                                                                                                                                                                                                                                                                                                                                                                                                                                                                                        \n",
       "[110] \"periop_tempmean_avg\"                                                                                                                                                                                                                                                                                                                                                                                                                                                                                                                                                       \n",
       "[111] \"periop_steroid_used\"                                                                                                                                                                                                                                                                                                                                                                                                                                                                                                                                                       \n",
       "[112] \"periop_vasopressor_used\"                                                                                                                                                                                                                                                                                                                                                                                                                                                                                                                                                   \n",
       "[113] \"periop_vfib_yn_used\"                                                                                                                                                                                                                                                                                                                                                                                                                                                                                                                                                       \n",
       "[114] \"periop_vtach_yn_used\"                                                                                                                                                                                                                                                                                                                                                                                                                                                                                                                                                      \n",
       "[115] \"periop_asystole_yn_used\"                                                                                                                                                                                                                                                                                                                                                                                                                                                                                                                                                   \n",
       "[116] \"periop_pea_yn_used\"                                                                                                                                                                                                                                                                                                                                                                                                                                                                                                                                                        \n",
       "[117] \"periop_torsades_de_pointes_yn_used\"                                                                                                                                                                                                                                                                                                                                                                                                                                                                                                                                        \n",
       "[118] \"periop_afib_yn_used\"                                                                                                                                                                                                                                                                                                                                                                                                                                                                                                                                                       \n",
       "[119] \"periop_aflutter_yn_used\"                                                                                                                                                                                                                                                                                                                                                                                                                                                                                                                                                   \n",
       "[120] \"periop_svt_yn_used\"                                                                                                                                                                                                                                                                                                                                                                                                                                                                                                                                                        \n",
       "[121] \"periop_first_heart_block_yn_used\"                                                                                                                                                                                                                                                                                                                                                                                                                                                                                                                                          \n",
       "[122] \"periop_second_heart_block_yn_used\"                                                                                                                                                                                                                                                                                                                                                                                                                                                                                                                                         \n",
       "[123] \"periop_third_heart_block_yn_used\"                                                                                                                                                                                                                                                                                                                                                                                                                                                                                                                                          \n",
       "[124] \"periop_paced_yn_used\"                                                                                                                                                                                                                                                                                                                                                                                                                                                                                                                                                      \n",
       "[125] \"periop_steroid_perc\"                                                                                                                                                                                                                                                                                                                                                                                                                                                                                                                                                       \n",
       "[126] \"periop_vasopressor_perc\"                                                                                                                                                                                                                                                                                                                                                                                                                                                                                                                                                   \n",
       "[127] \"periop_vfib_yn_perc\"                                                                                                                                                                                                                                                                                                                                                                                                                                                                                                                                                       \n",
       "[128] \"periop_vtach_yn_perc\"                                                                                                                                                                                                                                                                                                                                                                                                                                                                                                                                                      \n",
       "[129] \"periop_asystole_yn_perc\"                                                                                                                                                                                                                                                                                                                                                                                                                                                                                                                                                   \n",
       "[130] \"periop_pea_yn_perc\"                                                                                                                                                                                                                                                                                                                                                                                                                                                                                                                                                        \n",
       "[131] \"periop_torsades_de_pointes_yn_perc\"                                                                                                                                                                                                                                                                                                                                                                                                                                                                                                                                        \n",
       "[132] \"periop_afib_yn_perc\"                                                                                                                                                                                                                                                                                                                                                                                                                                                                                                                                                       \n",
       "[133] \"periop_aflutter_yn_perc\"                                                                                                                                                                                                                                                                                                                                                                                                                                                                                                                                                   \n",
       "[134] \"periop_svt_yn_perc\"                                                                                                                                                                                                                                                                                                                                                                                                                                                                                                                                                        \n",
       "[135] \"periop_first_heart_block_yn_perc\"                                                                                                                                                                                                                                                                                                                                                                                                                                                                                                                                          \n",
       "[136] \"periop_second_heart_block_yn_perc\"                                                                                                                                                                                                                                                                                                                                                                                                                                                                                                                                         \n",
       "[137] \"periop_third_heart_block_yn_perc\"                                                                                                                                                                                                                                                                                                                                                                                                                                                                                                                                          \n",
       "[138] \"periop_paced_yn_perc\"                                                                                                                                                                                                                                                                                                                                                                                                                                                                                                                                                      \n",
       "[139] \"bradenactivitymin1\"                                                                                                                                                                                                                                                                                                                                                                                                                                                                                                                                                        \n",
       "[140] \"bradenactivitymin2\"                                                                                                                                                                                                                                                                                                                                                                                                                                                                                                                                                        \n",
       "[141] \"bradenactivitymin3\"                                                                                                                                                                                                                                                                                                                                                                                                                                                                                                                                                        \n",
       "[142] \"bradenactivitymin4\"                                                                                                                                                                                                                                                                                                                                                                                                                                                                                                                                                        \n",
       "[143] \"bradenactivitymax1\"                                                                                                                                                                                                                                                                                                                                                                                                                                                                                                                                                        \n",
       "[144] \"bradenactivitymax2\"                                                                                                                                                                                                                                                                                                                                                                                                                                                                                                                                                        \n",
       "[145] \"bradenactivitymax3\"                                                                                                                                                                                                                                                                                                                                                                                                                                                                                                                                                        \n",
       "[146] \"bradenactivitymax4\"                                                                                                                                                                                                                                                                                                                                                                                                                                                                                                                                                        \n",
       "[147] \"bradenmobilitymin1\"                                                                                                                                                                                                                                                                                                                                                                                                                                                                                                                                                        \n",
       "[148] \"bradenmobilitymin2\"                                                                                                                                                                                                                                                                                                                                                                                                                                                                                                                                                        \n",
       "[149] \"bradenmobilitymin3\"                                                                                                                                                                                                                                                                                                                                                                                                                                                                                                                                                        \n",
       "[150] \"bradenmobilitymin4\"                                                                                                                                                                                                                                                                                                                                                                                                                                                                                                                                                        \n",
       "[151] \"bradenmobilitymax1\"                                                                                                                                                                                                                                                                                                                                                                                                                                                                                                                                                        \n",
       "[152] \"bradenmobilitymax2\"                                                                                                                                                                                                                                                                                                                                                                                                                                                                                                                                                        \n",
       "[153] \"bradenmobilitymax3\"                                                                                                                                                                                                                                                                                                                                                                                                                                                                                                                                                        \n",
       "[154] \"bradenmobilitymax4\"                                                                                                                                                                                                                                                                                                                                                                                                                                                                                                                                                        \n",
       "[155] \"bradennutritionmin1\"                                                                                                                                                                                                                                                                                                                                                                                                                                                                                                                                                       \n",
       "[156] \"bradennutritionmin2\"                                                                                                                                                                                                                                                                                                                                                                                                                                                                                                                                                       \n",
       "[157] \"bradennutritionmin3\"                                                                                                                                                                                                                                                                                                                                                                                                                                                                                                                                                       \n",
       "[158] \"bradennutritionmin4\"                                                                                                                                                                                                                                                                                                                                                                                                                                                                                                                                                       \n",
       "[159] \"bradennutritionmax1\"                                                                                                                                                                                                                                                                                                                                                                                                                                                                                                                                                       \n",
       "[160] \"bradennutritionmax2\"                                                                                                                                                                                                                                                                                                                                                                                                                                                                                                                                                       \n",
       "[161] \"bradennutritionmax3\"                                                                                                                                                                                                                                                                                                                                                                                                                                                                                                                                                       \n",
       "[162] \"bradennutritionmax4\"                                                                                                                                                                                                                                                                                                                                                                                                                                                                                                                                                       \n",
       "[163] \"bradensenspercmin1\"                                                                                                                                                                                                                                                                                                                                                                                                                                                                                                                                                        \n",
       "[164] \"bradensenspercmin2\"                                                                                                                                                                                                                                                                                                                                                                                                                                                                                                                                                        \n",
       "[165] \"bradensenspercmin3\"                                                                                                                                                                                                                                                                                                                                                                                                                                                                                                                                                        \n",
       "[166] \"bradensenspercmin4\"                                                                                                                                                                                                                                                                                                                                                                                                                                                                                                                                                        \n",
       "[167] \"bradensenspercmax1\"                                                                                                                                                                                                                                                                                                                                                                                                                                                                                                                                                        \n",
       "[168] \"bradensenspercmax2\"                                                                                                                                                                                                                                                                                                                                                                                                                                                                                                                                                        \n",
       "[169] \"bradensenspercmax3\"                                                                                                                                                                                                                                                                                                                                                                                                                                                                                                                                                        \n",
       "[170] \"bradensenspercmax4\"                                                                                                                                                                                                                                                                                                                                                                                                                                                                                                                                                        \n",
       "[171] \"bradenmoistmin1\"                                                                                                                                                                                                                                                                                                                                                                                                                                                                                                                                                           \n",
       "[172] \"bradenmoistmin2\"                                                                                                                                                                                                                                                                                                                                                                                                                                                                                                                                                           \n",
       "[173] \"bradenmoistmin3\"                                                                                                                                                                                                                                                                                                                                                                                                                                                                                                                                                           \n",
       "[174] \"bradenmoistmin4\"                                                                                                                                                                                                                                                                                                                                                                                                                                                                                                                                                           \n",
       "[175] \"bradenmoistmax1\"                                                                                                                                                                                                                                                                                                                                                                                                                                                                                                                                                           \n",
       "[176] \"bradenmoistmax2\"                                                                                                                                                                                                                                                                                                                                                                                                                                                                                                                                                           \n",
       "[177] \"bradenmoistmax3\"                                                                                                                                                                                                                                                                                                                                                                                                                                                                                                                                                           \n",
       "[178] \"bradenmoistmax4\"                                                                                                                                                                                                                                                                                                                                                                                                                                                                                                                                                           \n",
       "[179] \"bradenfrictionsheermin1\"                                                                                                                                                                                                                                                                                                                                                                                                                                                                                                                                                   \n",
       "[180] \"bradenfrictionsheermin2\"                                                                                                                                                                                                                                                                                                                                                                                                                                                                                                                                                   \n",
       "[181] \"bradenfrictionsheermin3\"                                                                                                                                                                                                                                                                                                                                                                                                                                                                                                                                                   \n",
       "[182] \"bradenfrictionsheermax1\"                                                                                                                                                                                                                                                                                                                                                                                                                                                                                                                                                   \n",
       "[183] \"bradenfrictionsheermax2\"                                                                                                                                                                                                                                                                                                                                                                                                                                                                                                                                                   \n",
       "[184] \"bradenfrictionsheermax3\"                                                                                                                                                                                                                                                                                                                                                                                                                                                                                                                                                   \n",
       "[185] \"op_los\"                                                                                                                                                                                                                                                                                                                                                                                                                                                                                                                                                                    \n",
       "[186] \"anesth_duration\"                                                                                                                                                                                                                                                                                                                                                                                                                                                                                                                                                           \n",
       "[187] \"inroom_time\"                                                                                                                                                                                                                                                                                                                                                                                                                                                                                                                                                               \n",
       "[188] \"procedure_duration\"                                                                                                                                                                                                                                                                                                                                                                                                                                                                                                                                                        \n",
       "[189] \"service_count\"                                                                                                                                                                                                                                                                                                                                                                                                                                                                                                                                                             \n",
       "[190] \"schedule_count\"                                                                                                                                                                                                                                                                                                                                                                                                                                                                                                                                                            \n",
       "[191] \"mean.total.hppd\"                                                                                                                                                                                                                                                                                                                                                                                                                                                                                                                                                           \n",
       "[192] \"min.total.hppd\"                                                                                                                                                                                                                                                                                                                                                                                                                                                                                                                                                            \n",
       "[193] \"max.total.hppd\"                                                                                                                                                                                                                                                                                                                                                                                                                                                                                                                                                            \n",
       "[194] \"mean.rn.hppd\"                                                                                                                                                                                                                                                                                                                                                                                                                                                                                                                                                              \n",
       "[195] \"min.rn.hppd\"                                                                                                                                                                                                                                                                                                                                                                                                                                                                                                                                                               \n",
       "[196] \"max.rn.hppd\"                                                                                                                                                                                                                                                                                                                                                                                                                                                                                                                                                               \n",
       "[197] \"asa_mean.y\"                                                                                                                                                                                                                                                                                                                                                                                                                                                                                                                                                                \n",
       "[198] \"primaryfirst1duplicate_Duplicate.Case\"                                                                                                                                                                                                                                                                                                                                                                                                                                                                                                                                     \n",
       "[199] \"primaryfirst1duplicate_Primary.Case\"                                                                                                                                                                                                                                                                                                                                                                                                                                                                                                                                       \n",
       "[200] \"admissiontype_Emergency\"                                                                                                                                                                                                                                                                                                                                                                                                                                                                                                                                                   \n",
       "[201] \"admissiontype_Scheduled\"                                                                                                                                                                                                                                                                                                                                                                                                                                                                                                                                                   \n",
       "[202] \"admissiontype_Urgent\"                                                                                                                                                                                                                                                                                                                                                                                                                                                                                                                                                      \n",
       "[203] \"gender_Female\"                                                                                                                                                                                                                                                                                                                                                                                                                                                                                                                                                             \n",
       "[204] \"race_African.American\"                                                                                                                                                                                                                                                                                                                                                                                                                                                                                                                                                     \n",
       "[205] \"race_American.Indian.or.Alaska.Native\"                                                                                                                                                                                                                                                                                                                                                                                                                                                                                                                                     \n",
       "[206] \"race_Asian\"                                                                                                                                                                                                                                                                                                                                                                                                                                                                                                                                                                \n",
       "[207] \"race_Caucasian\"                                                                                                                                                                                                                                                                                                                                                                                                                                                                                                                                                            \n",
       "[208] \"race_Native.Hawaiian.and.Other.Pacific.Islander\"                                                                                                                                                                                                                                                                                                                                                                                                                                                                                                                           \n",
       "[209] \"race_Other\"                                                                                                                                                                                                                                                                                                                                                                                                                                                                                                                                                                \n",
       "[210] \"race_Patient.Refused\"                                                                                                                                                                                                                                                                                                                                                                                                                                                                                                                                                      \n",
       "[211] \"race_Unknown\"                                                                                                                                                                                                                                                                                                                                                                                                                                                                                                                                                              \n",
       "[212] \"ethnicity_Hispanic.or.Latino\"                                                                                                                                                                                                                                                                                                                                                                                                                                                                                                                                              \n",
       "[213] \"ethnicity_Non.Hispanic.or.Latino\"                                                                                                                                                                                                                                                                                                                                                                                                                                                                                                                                          \n",
       "[214] \"ethnicity_Patient.Refused\"                                                                                                                                                                                                                                                                                                                                                                                                                                                                                                                                                 \n",
       "[215] \"ethnicity_Unknown\"                                                                                                                                                                                                                                                                                                                                                                                                                                                                                                                                                         \n",
       "[216] \"smokingstatus_Current\"                                                                                                                                                                                                                                                                                                                                                                                                                                                                                                                                                     \n",
       "[217] \"smokingstatus_Former\"                                                                                                                                                                                                                                                                                                                                                                                                                                                                                                                                                      \n",
       "[218] \"smokingstatus_Never\"                                                                                                                                                                                                                                                                                                                                                                                                                                                                                                                                                       \n",
       "[219] \"smokingstatus_Unknown\"                                                                                                                                                                                                                                                                                                                                                                                                                                                                                                                                                     \n",
       "[220] \"smokelessstatus_Current\"                                                                                                                                                                                                                                                                                                                                                                                                                                                                                                                                                   \n",
       "[221] \"smokelessstatus_Former\"                                                                                                                                                                                                                                                                                                                                                                                                                                                                                                                                                    \n",
       "[222] \"smokelessstatus_Never\"                                                                                                                                                                                                                                                                                                                                                                                                                                                                                                                                                     \n",
       "[223] \"smokelessstatus_Unknown\"                                                                                                                                                                                                                                                                                                                                                                                                                                                                                                                                                   \n",
       "[224] \"alcoholabuse_Yes\"                                                                                                                                                                                                                                                                                                                                                                                                                                                                                                                                                          \n",
       "[225] \"bloodlossanemia_Yes\"                                                                                                                                                                                                                                                                                                                                                                                                                                                                                                                                                       \n",
       "[226] \"cardiacarrhythmias_Yes\"                                                                                                                                                                                                                                                                                                                                                                                                                                                                                                                                                    \n",
       "[227] \"chronicpulmonarydisease_Yes\"                                                                                                                                                                                                                                                                                                                                                                                                                                                                                                                                               \n",
       "[228] \"coagulopathy_Yes\"                                                                                                                                                                                                                                                                                                                                                                                                                                                                                                                                                          \n",
       "[229] \"congestiveheartfailure_Yes\"                                                                                                                                                                                                                                                                                                                                                                                                                                                                                                                                                \n",
       "[230] \"deficiencyanemia_Yes\"                                                                                                                                                                                                                                                                                                                                                                                                                                                                                                                                                      \n",
       "[231] \"depression_Yes\"                                                                                                                                                                                                                                                                                                                                                                                                                                                                                                                                                            \n",
       "[232] \"diabetescomplicated_Yes\"                                                                                                                                                                                                                                                                                                                                                                                                                                                                                                                                                   \n",
       "[233] \"diabetesuncomplicated_Yes\"                                                                                                                                                                                                                                                                                                                                                                                                                                                                                                                                                 \n",
       "[234] \"drugabuse_Yes\"                                                                                                                                                                                                                                                                                                                                                                                                                                                                                                                                                             \n",
       "[235] \"fluidelectrolytedisorders_Yes\"                                                                                                                                                                                                                                                                                                                                                                                                                                                                                                                                             \n",
       "[236] \"hypertensioncomplicated_Yes\"                                                                                                                                                                                                                                                                                                                                                                                                                                                                                                                                               \n",
       "[237] \"hypertensionuncomplicated_Yes\"                                                                                                                                                                                                                                                                                                                                                                                                                                                                                                                                             \n",
       "[238] \"hypothyroidism_Yes\"                                                                                                                                                                                                                                                                                                                                                                                                                                                                                                                                                        \n",
       "[239] \"liverdisease_Yes\"                                                                                                                                                                                                                                                                                                                                                                                                                                                                                                                                                          \n",
       "[240] \"lymphoma_Yes\"                                                                                                                                                                                                                                                                                                                                                                                                                                                                                                                                                              \n",
       "[241] \"metastaticcancer_Yes\"                                                                                                                                                                                                                                                                                                                                                                                                                                                                                                                                                      \n",
       "[242] \"obesity_Yes\"                                                                                                                                                                                                                                                                                                                                                                                                                                                                                                                                                               \n",
       "[243] \"otherneurologicaldisorders_Yes\"                                                                                                                                                                                                                                                                                                                                                                                                                                                                                                                                            \n",
       "[244] \"paralysis_Yes\"                                                                                                                                                                                                                                                                                                                                                                                                                                                                                                                                                             \n",
       "[245] \"pepticulcerdiseaseexcludingbleed_Yes\"                                                                                                                                                                                                                                                                                                                                                                                                                                                                                                                                      \n",
       "[246] \"peripheralvasculardisorders_Yes\"                                                                                                                                                                                                                                                                                                                                                                                                                                                                                                                                           \n",
       "[247] \"psychoses_Yes\"                                                                                                                                                                                                                                                                                                                                                                                                                                                                                                                                                             \n",
       "[248] \"pulmonarycirculationdisorders_Yes\"                                                                                                                                                                                                                                                                                                                                                                                                                                                                                                                                         \n",
       "[249] \"renalfailure_Yes\"                                                                                                                                                                                                                                                                                                                                                                                                                                                                                                                                                          \n",
       "[250] \"rheumatoidarthritiscollagenvascu_Yes\"                                                                                                                                                                                                                                                                                                                                                                                                                                                                                                                                      \n",
       "[251] \"solidtumorwithoutmetastasis_Yes\"                                                                                                                                                                                                                                                                                                                                                                                                                                                                                                                                           \n",
       "[252] \"valvulardisease_Yes\"                                                                                                                                                                                                                                                                                                                                                                                                                                                                                                                                                       \n",
       "[253] \"weightloss_Yes\"                                                                                                                                                                                                                                                                                                                                                                                                                                                                                                                                                            "
      ]
     },
     "metadata": {},
     "output_type": "display_data"
    }
   ],
   "source": [
    "names(all_data)"
   ]
  },
  {
   "cell_type": "markdown",
   "metadata": {},
   "source": [
    "# Modeling without balancing and including Braden metrics"
   ]
  },
  {
   "cell_type": "markdown",
   "metadata": {},
   "source": [
    "## Stratified partitioning"
   ]
  },
  {
   "cell_type": "code",
   "execution_count": 5,
   "metadata": {},
   "outputs": [
    {
     "name": "stderr",
     "output_type": "stream",
     "text": [
      "Loading required package: lattice\n",
      "Loading required package: ggplot2\n"
     ]
    }
   ],
   "source": [
    "library(caret)"
   ]
  },
  {
   "cell_type": "code",
   "execution_count": 6,
   "metadata": {},
   "outputs": [
    {
     "data": {
      "text/plain": [
       "\n",
       "    0     1 \n",
       "12571   690 "
      ]
     },
     "metadata": {},
     "output_type": "display_data"
    },
    {
     "data": {
      "text/plain": [
       "\n",
       "   0    1 \n",
       "5413  269 "
      ]
     },
     "metadata": {},
     "output_type": "display_data"
    }
   ],
   "source": [
    "train.index <- createDataPartition(all_data$pi, p = .7, list = FALSE)\n",
    "train_set <- all_data[ train.index,]\n",
    "test_set  <- all_data[-train.index,]\n",
    "\n",
    "table(train_set$pi)\n",
    "\n",
    "table(test_set$pi)"
   ]
  },
  {
   "cell_type": "markdown",
   "metadata": {},
   "source": [
    "### logistic regression pn the entire dataset"
   ]
  },
  {
   "cell_type": "code",
   "execution_count": 6,
   "metadata": {
    "collapsed": true,
    "jupyter": {
     "outputs_hidden": true
    }
   },
   "outputs": [
    {
     "name": "stderr",
     "output_type": "stream",
     "text": [
      "Warning message:\n",
      "\"package 'dplyr' was built under R version 3.5.3\"\n",
      "Attaching package: 'dplyr'\n",
      "\n",
      "The following objects are masked from 'package:stats':\n",
      "\n",
      "    filter, lag\n",
      "\n",
      "The following objects are masked from 'package:base':\n",
      "\n",
      "    intersect, setdiff, setequal, union\n",
      "\n"
     ]
    }
   ],
   "source": [
    "library(dplyr)"
   ]
  },
  {
   "cell_type": "code",
   "execution_count": 72,
   "metadata": {},
   "outputs": [],
   "source": [
    "x_training <- select(train_set, -pi)\n",
    "x_test <- select(test_set, -pi)"
   ]
  },
  {
   "cell_type": "code",
   "execution_count": 7,
   "metadata": {
    "collapsed": true,
    "jupyter": {
     "outputs_hidden": true
    }
   },
   "outputs": [
    {
     "name": "stderr",
     "output_type": "stream",
     "text": [
      "Loading required package: Matrix\n",
      "Loading required package: foreach\n",
      "Loaded glmnet 2.0-16\n",
      "\n"
     ]
    }
   ],
   "source": [
    "library(glmnet)"
   ]
  },
  {
   "cell_type": "code",
   "execution_count": 75,
   "metadata": {},
   "outputs": [
    {
     "data": {
      "text/plain": [
       "   user  system elapsed \n",
       " 701.69    1.73  753.82 "
      ]
     },
     "metadata": {},
     "output_type": "display_data"
    }
   ],
   "source": [
    "system.time (\n",
    "    cvlog <- cv.glmnet(data.matrix(x_training), train_set$pi, family = \"binomial\", type.measure = \"class\")\n",
    "    )"
   ]
  },
  {
   "cell_type": "markdown",
   "metadata": {},
   "source": [
    "#### Plot the result"
   ]
  },
  {
   "cell_type": "code",
   "execution_count": 76,
   "metadata": {
    "collapsed": true,
    "jupyter": {
     "outputs_hidden": true
    }
   },
   "outputs": [
    {
     "data": {
      "image/png": "[encoded data removed]",
      "text/plain": [
       "plot without title"
      ]
     },
     "metadata": {},
     "output_type": "display_data"
    }
   ],
   "source": [
    "options(repr.plot.width=10, repr.plot.height=6)\n",
    "plot(cvlog)"
   ]
  },
  {
   "cell_type": "markdown",
   "metadata": {},
   "source": [
    "#### Get coefficents at lambda.min"
   ]
  },
  {
   "cell_type": "code",
   "execution_count": 33,
   "metadata": {},
   "outputs": [],
   "source": [
    "pi_coef <- coef(cvlog, s = \"lambda.min\") %>% as.matrix() %>% exp() %>% round(3)"
   ]
  },
  {
   "cell_type": "markdown",
   "metadata": {},
   "source": [
    "Get top 20 coefficient"
   ]
  },
  {
   "cell_type": "code",
   "execution_count": 36,
   "metadata": {
    "collapsed": true,
    "jupyter": {
     "outputs_hidden": true
    }
   },
   "outputs": [
    {
     "data": {
      "text/html": [
       "<dl class=dl-horizontal>\n",
       "\t<dt>periop_third_heart_block_yn_used</dt>\n",
       "\t\t<dd>26.821</dd>\n",
       "\t<dt>smokelessstatus_Current</dt>\n",
       "\t\t<dd>2.698</dd>\n",
       "\t<dt>incontinent_used</dt>\n",
       "\t\t<dd>2.469</dd>\n",
       "\t<dt>paralysis_Yes</dt>\n",
       "\t\t<dd>2.081</dd>\n",
       "\t<dt>weightloss_Yes</dt>\n",
       "\t\t<dd>1.751</dd>\n",
       "\t<dt>periop_torsades_de_pointes_yn_used</dt>\n",
       "\t\t<dd>1.712</dd>\n",
       "\t<dt>race_Other</dt>\n",
       "\t\t<dd>1.646</dd>\n",
       "\t<dt>ethnicity_Unknown</dt>\n",
       "\t\t<dd>1.585</dd>\n",
       "\t<dt>diabetescomplicated_Yes</dt>\n",
       "\t\t<dd>1.553</dd>\n",
       "\t<dt>peripheralvasculardisorders_Yes</dt>\n",
       "\t\t<dd>1.527</dd>\n",
       "\t<dt>bloodlossanemia_Yes</dt>\n",
       "\t\t<dd>1.498</dd>\n",
       "\t<dt>periop_first_heart_block_yn_used</dt>\n",
       "\t\t<dd>1.491</dd>\n",
       "\t<dt>valvulardisease_Yes</dt>\n",
       "\t\t<dd>1.395</dd>\n",
       "\t<dt>drugabuse_Yes</dt>\n",
       "\t\t<dd>1.31</dd>\n",
       "\t<dt>depression_Yes</dt>\n",
       "\t\t<dd>1.268</dd>\n",
       "\t<dt>congestiveheartfailure_Yes</dt>\n",
       "\t\t<dd>1.253</dd>\n",
       "\t<dt>procedure_duration</dt>\n",
       "\t\t<dd>1.226</dd>\n",
       "\t<dt>pulmonarycirculationdisorders_Yes</dt>\n",
       "\t\t<dd>1.218</dd>\n",
       "\t<dt>race_Native.Hawaiian.and.Other.Pacific.Islander</dt>\n",
       "\t\t<dd>1.215</dd>\n",
       "\t<dt>fluidelectrolytedisorders_Yes</dt>\n",
       "\t\t<dd>1.185</dd>\n",
       "</dl>\n"
      ],
      "text/latex": [
       "\\begin{description*}\n",
       "\\item[periop\\textbackslash{}\\_third\\textbackslash{}\\_heart\\textbackslash{}\\_block\\textbackslash{}\\_yn\\textbackslash{}\\_used] 26.821\n",
       "\\item[smokelessstatus\\textbackslash{}\\_Current] 2.698\n",
       "\\item[incontinent\\textbackslash{}\\_used] 2.469\n",
       "\\item[paralysis\\textbackslash{}\\_Yes] 2.081\n",
       "\\item[weightloss\\textbackslash{}\\_Yes] 1.751\n",
       "\\item[periop\\textbackslash{}\\_torsades\\textbackslash{}\\_de\\textbackslash{}\\_pointes\\textbackslash{}\\_yn\\textbackslash{}\\_used] 1.712\n",
       "\\item[race\\textbackslash{}\\_Other] 1.646\n",
       "\\item[ethnicity\\textbackslash{}\\_Unknown] 1.585\n",
       "\\item[diabetescomplicated\\textbackslash{}\\_Yes] 1.553\n",
       "\\item[peripheralvasculardisorders\\textbackslash{}\\_Yes] 1.527\n",
       "\\item[bloodlossanemia\\textbackslash{}\\_Yes] 1.498\n",
       "\\item[periop\\textbackslash{}\\_first\\textbackslash{}\\_heart\\textbackslash{}\\_block\\textbackslash{}\\_yn\\textbackslash{}\\_used] 1.491\n",
       "\\item[valvulardisease\\textbackslash{}\\_Yes] 1.395\n",
       "\\item[drugabuse\\textbackslash{}\\_Yes] 1.31\n",
       "\\item[depression\\textbackslash{}\\_Yes] 1.268\n",
       "\\item[congestiveheartfailure\\textbackslash{}\\_Yes] 1.253\n",
       "\\item[procedure\\textbackslash{}\\_duration] 1.226\n",
       "\\item[pulmonarycirculationdisorders\\textbackslash{}\\_Yes] 1.218\n",
       "\\item[race\\textbackslash{}\\_Native.Hawaiian.and.Other.Pacific.Islander] 1.215\n",
       "\\item[fluidelectrolytedisorders\\textbackslash{}\\_Yes] 1.185\n",
       "\\end{description*}\n"
      ],
      "text/markdown": [
       "periop_third_heart_block_yn_used\n",
       ":   26.821smokelessstatus_Current\n",
       ":   2.698incontinent_used\n",
       ":   2.469paralysis_Yes\n",
       ":   2.081weightloss_Yes\n",
       ":   1.751periop_torsades_de_pointes_yn_used\n",
       ":   1.712race_Other\n",
       ":   1.646ethnicity_Unknown\n",
       ":   1.585diabetescomplicated_Yes\n",
       ":   1.553peripheralvasculardisorders_Yes\n",
       ":   1.527bloodlossanemia_Yes\n",
       ":   1.498periop_first_heart_block_yn_used\n",
       ":   1.491valvulardisease_Yes\n",
       ":   1.395drugabuse_Yes\n",
       ":   1.31depression_Yes\n",
       ":   1.268congestiveheartfailure_Yes\n",
       ":   1.253procedure_duration\n",
       ":   1.226pulmonarycirculationdisorders_Yes\n",
       ":   1.218race_Native.Hawaiian.and.Other.Pacific.Islander\n",
       ":   1.215fluidelectrolytedisorders_Yes\n",
       ":   1.185\n",
       "\n"
      ],
      "text/plain": [
       "               periop_third_heart_block_yn_used \n",
       "                                         26.821 \n",
       "                        smokelessstatus_Current \n",
       "                                          2.698 \n",
       "                               incontinent_used \n",
       "                                          2.469 \n",
       "                                  paralysis_Yes \n",
       "                                          2.081 \n",
       "                                 weightloss_Yes \n",
       "                                          1.751 \n",
       "             periop_torsades_de_pointes_yn_used \n",
       "                                          1.712 \n",
       "                                     race_Other \n",
       "                                          1.646 \n",
       "                              ethnicity_Unknown \n",
       "                                          1.585 \n",
       "                        diabetescomplicated_Yes \n",
       "                                          1.553 \n",
       "                peripheralvasculardisorders_Yes \n",
       "                                          1.527 \n",
       "                            bloodlossanemia_Yes \n",
       "                                          1.498 \n",
       "               periop_first_heart_block_yn_used \n",
       "                                          1.491 \n",
       "                            valvulardisease_Yes \n",
       "                                          1.395 \n",
       "                                  drugabuse_Yes \n",
       "                                          1.310 \n",
       "                                 depression_Yes \n",
       "                                          1.268 \n",
       "                     congestiveheartfailure_Yes \n",
       "                                          1.253 \n",
       "                             procedure_duration \n",
       "                                          1.226 \n",
       "              pulmonarycirculationdisorders_Yes \n",
       "                                          1.218 \n",
       "race_Native.Hawaiian.and.Other.Pacific.Islander \n",
       "                                          1.215 \n",
       "                  fluidelectrolytedisorders_Yes \n",
       "                                          1.185 "
      ]
     },
     "metadata": {},
     "output_type": "display_data"
    }
   ],
   "source": [
    "pi_coef[order(-pi_coef[,1])[1:20],]"
   ]
  },
  {
   "cell_type": "markdown",
   "metadata": {},
   "source": [
    "#### Performance on the training set"
   ]
  },
  {
   "cell_type": "code",
   "execution_count": 88,
   "metadata": {},
   "outputs": [
    {
     "data": {
      "text/plain": [
       "Confusion Matrix and Statistics\n",
       "\n",
       "          Reference\n",
       "Prediction     0     1\n",
       "         0 11536  1572\n",
       "         1  1053  5141\n",
       "                                          \n",
       "               Accuracy : 0.864           \n",
       "                 95% CI : (0.8591, 0.8688)\n",
       "    No Information Rate : 0.6522          \n",
       "    P-Value [Acc > NIR] : < 2.2e-16       \n",
       "                                          \n",
       "                  Kappa : 0.6947          \n",
       " Mcnemar's Test P-Value : < 2.2e-16       \n",
       "                                          \n",
       "            Sensitivity : 0.7658          \n",
       "            Specificity : 0.9164          \n",
       "         Pos Pred Value : 0.8300          \n",
       "         Neg Pred Value : 0.8801          \n",
       "             Prevalence : 0.3478          \n",
       "         Detection Rate : 0.2663          \n",
       "   Detection Prevalence : 0.3209          \n",
       "      Balanced Accuracy : 0.8411          \n",
       "                                          \n",
       "       'Positive' Class : 1               \n",
       "                                          "
      ]
     },
     "metadata": {},
     "output_type": "display_data"
    }
   ],
   "source": [
    "y_train_pred <- predict(cvlog, newx = data.matrix(x_training), s = \"lambda.min\", type = \"class\")\n",
    "confusionMatrix(as.factor(y_train_pred), as.factor(train_set$pi),   positive='1')"
   ]
  },
  {
   "cell_type": "markdown",
   "metadata": {},
   "source": [
    "#### Performance on the test set"
   ]
  },
  {
   "cell_type": "code",
   "execution_count": 89,
   "metadata": {},
   "outputs": [
    {
     "data": {
      "text/plain": [
       "Confusion Matrix and Statistics\n",
       "\n",
       "          Reference\n",
       "Prediction    0    1\n",
       "         0 4921  670\n",
       "         1  474 2207\n",
       "                                          \n",
       "               Accuracy : 0.8617          \n",
       "                 95% CI : (0.8541, 0.8691)\n",
       "    No Information Rate : 0.6522          \n",
       "    P-Value [Acc > NIR] : < 2.2e-16       \n",
       "                                          \n",
       "                  Kappa : 0.6902          \n",
       " Mcnemar's Test P-Value : 8.151e-09       \n",
       "                                          \n",
       "            Sensitivity : 0.7671          \n",
       "            Specificity : 0.9121          \n",
       "         Pos Pred Value : 0.8232          \n",
       "         Neg Pred Value : 0.8802          \n",
       "             Prevalence : 0.3478          \n",
       "         Detection Rate : 0.2668          \n",
       "   Detection Prevalence : 0.3241          \n",
       "      Balanced Accuracy : 0.8396          \n",
       "                                          \n",
       "       'Positive' Class : 1               \n",
       "                                          "
      ]
     },
     "metadata": {},
     "output_type": "display_data"
    }
   ],
   "source": [
    "y_test_pred <- predict(cvlog, newx = data.matrix(x_test), s = \"lambda.min\", type = \"class\")\n",
    "confusionMatrix( as.factor(y_test_pred), as.factor(test_set$pi), positive =\"1\")"
   ]
  },
  {
   "cell_type": "markdown",
   "metadata": {},
   "source": [
    "## Modeling without balancing and Braden metrics"
   ]
  },
  {
   "cell_type": "code",
   "execution_count": 90,
   "metadata": {},
   "outputs": [],
   "source": [
    "cvlog_bd = cv.glmnet(data.matrix(select(x_training, -starts_with(\"braden\"))), train_set$pi, family = \"binomial\", type.measure = \"class\")"
   ]
  },
  {
   "cell_type": "code",
   "execution_count": 91,
   "metadata": {
    "collapsed": true,
    "jupyter": {
     "outputs_hidden": true
    }
   },
   "outputs": [
    {
     "data": {
      "image/png": "[encoded data removed]",
      "text/plain": [
       "plot without title"
      ]
     },
     "metadata": {},
     "output_type": "display_data"
    }
   ],
   "source": [
    "options(repr.plot.width=10, repr.plot.height=6)\n",
    "plot(cvlog_bd)"
   ]
  },
  {
   "cell_type": "markdown",
   "metadata": {},
   "source": [
    "#### Get coefficents at lambda.min"
   ]
  },
  {
   "cell_type": "code",
   "execution_count": 41,
   "metadata": {},
   "outputs": [],
   "source": [
    "pi_coef <- coef(cvlog_bd, s = \"lambda.min\") %>% as.matrix() %>% exp() %>% round(3)"
   ]
  },
  {
   "cell_type": "markdown",
   "metadata": {},
   "source": [
    "Get top 20 coefficient"
   ]
  },
  {
   "cell_type": "code",
   "execution_count": 42,
   "metadata": {
    "collapsed": true,
    "jupyter": {
     "outputs_hidden": true
    }
   },
   "outputs": [
    {
     "data": {
      "text/html": [
       "<dl class=dl-horizontal>\n",
       "\t<dt>periop_third_heart_block_yn_used</dt>\n",
       "\t\t<dd>158.33</dd>\n",
       "\t<dt>incontinent_used</dt>\n",
       "\t\t<dd>4.998</dd>\n",
       "\t<dt>paralysis_Yes</dt>\n",
       "\t\t<dd>4.25</dd>\n",
       "\t<dt>smokelessstatus_Current</dt>\n",
       "\t\t<dd>2.638</dd>\n",
       "\t<dt>periop_torsades_de_pointes_yn_used</dt>\n",
       "\t\t<dd>2.407</dd>\n",
       "\t<dt>periop_first_heart_block_yn_used</dt>\n",
       "\t\t<dd>2.364</dd>\n",
       "\t<dt>weightloss_Yes</dt>\n",
       "\t\t<dd>2.03</dd>\n",
       "\t<dt>race_Other</dt>\n",
       "\t\t<dd>1.908</dd>\n",
       "\t<dt>ethnicity_Unknown</dt>\n",
       "\t\t<dd>1.612</dd>\n",
       "\t<dt>diabetescomplicated_Yes</dt>\n",
       "\t\t<dd>1.567</dd>\n",
       "\t<dt>peripheralvasculardisorders_Yes</dt>\n",
       "\t\t<dd>1.533</dd>\n",
       "\t<dt>depression_Yes</dt>\n",
       "\t\t<dd>1.434</dd>\n",
       "\t<dt>periop_afib_yn_used</dt>\n",
       "\t\t<dd>1.41</dd>\n",
       "\t<dt>fecaldevice_used</dt>\n",
       "\t\t<dd>1.379</dd>\n",
       "\t<dt>bloodlossanemia_Yes</dt>\n",
       "\t\t<dd>1.379</dd>\n",
       "\t<dt>congestiveheartfailure_Yes</dt>\n",
       "\t\t<dd>1.355</dd>\n",
       "\t<dt>primaryfirst1duplicate_Duplicate.Case</dt>\n",
       "\t\t<dd>1.353</dd>\n",
       "\t<dt>valvulardisease_Yes</dt>\n",
       "\t\t<dd>1.31</dd>\n",
       "\t<dt>deficiencyanemia_Yes</dt>\n",
       "\t\t<dd>1.303</dd>\n",
       "\t<dt>race_Native.Hawaiian.and.Other.Pacific.Islander</dt>\n",
       "\t\t<dd>1.283</dd>\n",
       "</dl>\n"
      ],
      "text/latex": [
       "\\begin{description*}\n",
       "\\item[periop\\textbackslash{}\\_third\\textbackslash{}\\_heart\\textbackslash{}\\_block\\textbackslash{}\\_yn\\textbackslash{}\\_used] 158.33\n",
       "\\item[incontinent\\textbackslash{}\\_used] 4.998\n",
       "\\item[paralysis\\textbackslash{}\\_Yes] 4.25\n",
       "\\item[smokelessstatus\\textbackslash{}\\_Current] 2.638\n",
       "\\item[periop\\textbackslash{}\\_torsades\\textbackslash{}\\_de\\textbackslash{}\\_pointes\\textbackslash{}\\_yn\\textbackslash{}\\_used] 2.407\n",
       "\\item[periop\\textbackslash{}\\_first\\textbackslash{}\\_heart\\textbackslash{}\\_block\\textbackslash{}\\_yn\\textbackslash{}\\_used] 2.364\n",
       "\\item[weightloss\\textbackslash{}\\_Yes] 2.03\n",
       "\\item[race\\textbackslash{}\\_Other] 1.908\n",
       "\\item[ethnicity\\textbackslash{}\\_Unknown] 1.612\n",
       "\\item[diabetescomplicated\\textbackslash{}\\_Yes] 1.567\n",
       "\\item[peripheralvasculardisorders\\textbackslash{}\\_Yes] 1.533\n",
       "\\item[depression\\textbackslash{}\\_Yes] 1.434\n",
       "\\item[periop\\textbackslash{}\\_afib\\textbackslash{}\\_yn\\textbackslash{}\\_used] 1.41\n",
       "\\item[fecaldevice\\textbackslash{}\\_used] 1.379\n",
       "\\item[bloodlossanemia\\textbackslash{}\\_Yes] 1.379\n",
       "\\item[congestiveheartfailure\\textbackslash{}\\_Yes] 1.355\n",
       "\\item[primaryfirst1duplicate\\textbackslash{}\\_Duplicate.Case] 1.353\n",
       "\\item[valvulardisease\\textbackslash{}\\_Yes] 1.31\n",
       "\\item[deficiencyanemia\\textbackslash{}\\_Yes] 1.303\n",
       "\\item[race\\textbackslash{}\\_Native.Hawaiian.and.Other.Pacific.Islander] 1.283\n",
       "\\end{description*}\n"
      ],
      "text/markdown": [
       "periop_third_heart_block_yn_used\n",
       ":   158.33incontinent_used\n",
       ":   4.998paralysis_Yes\n",
       ":   4.25smokelessstatus_Current\n",
       ":   2.638periop_torsades_de_pointes_yn_used\n",
       ":   2.407periop_first_heart_block_yn_used\n",
       ":   2.364weightloss_Yes\n",
       ":   2.03race_Other\n",
       ":   1.908ethnicity_Unknown\n",
       ":   1.612diabetescomplicated_Yes\n",
       ":   1.567peripheralvasculardisorders_Yes\n",
       ":   1.533depression_Yes\n",
       ":   1.434periop_afib_yn_used\n",
       ":   1.41fecaldevice_used\n",
       ":   1.379bloodlossanemia_Yes\n",
       ":   1.379congestiveheartfailure_Yes\n",
       ":   1.355primaryfirst1duplicate_Duplicate.Case\n",
       ":   1.353valvulardisease_Yes\n",
       ":   1.31deficiencyanemia_Yes\n",
       ":   1.303race_Native.Hawaiian.and.Other.Pacific.Islander\n",
       ":   1.283\n",
       "\n"
      ],
      "text/plain": [
       "               periop_third_heart_block_yn_used \n",
       "                                        158.330 \n",
       "                               incontinent_used \n",
       "                                          4.998 \n",
       "                                  paralysis_Yes \n",
       "                                          4.250 \n",
       "                        smokelessstatus_Current \n",
       "                                          2.638 \n",
       "             periop_torsades_de_pointes_yn_used \n",
       "                                          2.407 \n",
       "               periop_first_heart_block_yn_used \n",
       "                                          2.364 \n",
       "                                 weightloss_Yes \n",
       "                                          2.030 \n",
       "                                     race_Other \n",
       "                                          1.908 \n",
       "                              ethnicity_Unknown \n",
       "                                          1.612 \n",
       "                        diabetescomplicated_Yes \n",
       "                                          1.567 \n",
       "                peripheralvasculardisorders_Yes \n",
       "                                          1.533 \n",
       "                                 depression_Yes \n",
       "                                          1.434 \n",
       "                            periop_afib_yn_used \n",
       "                                          1.410 \n",
       "                               fecaldevice_used \n",
       "                                          1.379 \n",
       "                            bloodlossanemia_Yes \n",
       "                                          1.379 \n",
       "                     congestiveheartfailure_Yes \n",
       "                                          1.355 \n",
       "          primaryfirst1duplicate_Duplicate.Case \n",
       "                                          1.353 \n",
       "                            valvulardisease_Yes \n",
       "                                          1.310 \n",
       "                           deficiencyanemia_Yes \n",
       "                                          1.303 \n",
       "race_Native.Hawaiian.and.Other.Pacific.Islander \n",
       "                                          1.283 "
      ]
     },
     "metadata": {},
     "output_type": "display_data"
    }
   ],
   "source": [
    "pi_coef[order(-pi_coef[,1])[1:20],]"
   ]
  },
  {
   "cell_type": "markdown",
   "metadata": {},
   "source": [
    "#### Performance on the test set"
   ]
  },
  {
   "cell_type": "code",
   "execution_count": 108,
   "metadata": {},
   "outputs": [
    {
     "data": {
      "text/plain": [
       "Confusion Matrix and Statistics\n",
       "\n",
       "          Reference\n",
       "Prediction    0    1\n",
       "         0 4890  806\n",
       "         1  505 2071\n",
       "                                          \n",
       "               Accuracy : 0.8415          \n",
       "                 95% CI : (0.8335, 0.8493)\n",
       "    No Information Rate : 0.6522          \n",
       "    P-Value [Acc > NIR] : < 2.2e-16       \n",
       "                                          \n",
       "                  Kappa : 0.6419          \n",
       " Mcnemar's Test P-Value : < 2.2e-16       \n",
       "                                          \n",
       "            Sensitivity : 0.7198          \n",
       "            Specificity : 0.9064          \n",
       "         Pos Pred Value : 0.8040          \n",
       "         Neg Pred Value : 0.8585          \n",
       "             Prevalence : 0.3478          \n",
       "         Detection Rate : 0.2504          \n",
       "   Detection Prevalence : 0.3114          \n",
       "      Balanced Accuracy : 0.8131          \n",
       "                                          \n",
       "       'Positive' Class : 1               \n",
       "                                          "
      ]
     },
     "metadata": {},
     "output_type": "display_data"
    }
   ],
   "source": [
    "y_test_pred <- predict(cvlog_bd, newx = data.matrix(select(x_test, -starts_with(\"braden\"))), s = \"lambda.min\", type = \"class\")\n",
    "confusionMatrix(as.factor(y_test_pred), as.factor(test_set$pi), positive =\"1\")"
   ]
  },
  {
   "cell_type": "code",
   "execution_count": null,
   "metadata": {},
   "outputs": [],
   "source": []
  },
  {
   "cell_type": "markdown",
   "metadata": {},
   "source": [
    "## Random Forest Classification"
   ]
  },
  {
   "cell_type": "markdown",
   "metadata": {},
   "source": [
    "### Modeling with the entire dataset"
   ]
  },
  {
   "cell_type": "code",
   "execution_count": 16,
   "metadata": {
    "collapsed": true,
    "jupyter": {
     "outputs_hidden": true
    }
   },
   "outputs": [
    {
     "name": "stderr",
     "output_type": "stream",
     "text": [
      "randomForest 4.6-14\n",
      "Type rfNews() to see new features/changes/bug fixes.\n",
      "\n",
      "Attaching package: 'randomForest'\n",
      "\n",
      "The following object is masked from 'package:dplyr':\n",
      "\n",
      "    combine\n",
      "\n",
      "The following object is masked from 'package:ggplot2':\n",
      "\n",
      "    margin\n",
      "\n"
     ]
    }
   ],
   "source": [
    "# install.packages(\"randomForest\")\n",
    "library(randomForest)"
   ]
  },
  {
   "cell_type": "code",
   "execution_count": 93,
   "metadata": {},
   "outputs": [],
   "source": [
    "set.seed(12)\n",
    "#x_training$pi <- trainingData$pi\n",
    "train_set$pi <- as.factor(train_set$pi)"
   ]
  },
  {
   "cell_type": "code",
   "execution_count": 94,
   "metadata": {},
   "outputs": [
    {
     "data": {
      "text/plain": [
       "   user  system elapsed \n",
       " 374.81    0.33  380.18 "
      ]
     },
     "metadata": {},
     "output_type": "display_data"
    }
   ],
   "source": [
    "system.time(rf.fit <- randomForest(pi~. , data=train_set,importance=TRUE,ntree=200,mtry=50))"
   ]
  },
  {
   "cell_type": "code",
   "execution_count": 109,
   "metadata": {
    "collapsed": true,
    "jupyter": {
     "outputs_hidden": true
    }
   },
   "outputs": [
    {
     "data": {
      "image/png": "[encoded data removed]",
      "text/plain": [
       "plot without title"
      ]
     },
     "metadata": {},
     "output_type": "display_data"
    }
   ],
   "source": [
    "varImpPlot(rf.fit, cex=0.9)"
   ]
  },
  {
   "cell_type": "code",
   "execution_count": 102,
   "metadata": {},
   "outputs": [
    {
     "name": "stdout",
     "output_type": "stream",
     "text": [
      "\n",
      "Call:\n",
      " randomForest(formula = pi ~ ., data = train_set, importance = TRUE,      ntree = 200, mtry = 50) \n",
      "               Type of random forest: classification\n",
      "                     Number of trees: 200\n",
      "No. of variables tried at each split: 50\n",
      "\n",
      "        OOB estimate of  error rate: 0.98%\n",
      "Confusion matrix:\n",
      "      0    1  class.error\n",
      "0 12401  188 0.0149336723\n",
      "1     1 6712 0.0001489647\n"
     ]
    }
   ],
   "source": [
    "print(rf.fit)"
   ]
  },
  {
   "cell_type": "code",
   "execution_count": 47,
   "metadata": {},
   "outputs": [],
   "source": [
    "# save the model to disk\n",
    "saveRDS(rf.fit, \"Analysis/rf_fit_model.rds\")"
   ]
  },
  {
   "cell_type": "code",
   "execution_count": 44,
   "metadata": {},
   "outputs": [],
   "source": [
    "rf.org <- readRDS(\"Analysis/rf_fit_model.rds\")"
   ]
  },
  {
   "cell_type": "code",
   "execution_count": 105,
   "metadata": {},
   "outputs": [
    {
     "data": {
      "text/plain": [
       "Confusion Matrix and Statistics\n",
       "\n",
       "          Reference\n",
       "Prediction     0     1\n",
       "         0 12589     0\n",
       "         1     0  6713\n",
       "                                     \n",
       "               Accuracy : 1          \n",
       "                 95% CI : (0.9998, 1)\n",
       "    No Information Rate : 0.6522     \n",
       "    P-Value [Acc > NIR] : < 2.2e-16  \n",
       "                                     \n",
       "                  Kappa : 1          \n",
       " Mcnemar's Test P-Value : NA         \n",
       "                                     \n",
       "            Sensitivity : 1.0000     \n",
       "            Specificity : 1.0000     \n",
       "         Pos Pred Value : 1.0000     \n",
       "         Neg Pred Value : 1.0000     \n",
       "             Prevalence : 0.3478     \n",
       "         Detection Rate : 0.3478     \n",
       "   Detection Prevalence : 0.3478     \n",
       "      Balanced Accuracy : 1.0000     \n",
       "                                     \n",
       "       'Positive' Class : 1          \n",
       "                                     "
      ]
     },
     "metadata": {},
     "output_type": "display_data"
    }
   ],
   "source": [
    "train_pred <- predict(rf.fit, train_set)\n",
    "train_pred <- as.factor(train_pred)\n",
    "confusionMatrix(train_pred, as.factor(train_set$pi), positive = '1')"
   ]
  },
  {
   "cell_type": "markdown",
   "metadata": {},
   "source": [
    "#### Evaluate on the test set"
   ]
  },
  {
   "cell_type": "code",
   "execution_count": 47,
   "metadata": {},
   "outputs": [
    {
     "data": {
      "text/plain": [
       "\n",
       "   0    1 \n",
       "5413  269 "
      ]
     },
     "metadata": {},
     "output_type": "display_data"
    }
   ],
   "source": [
    "table(test_set$pi)"
   ]
  },
  {
   "cell_type": "code",
   "execution_count": 97,
   "metadata": {},
   "outputs": [
    {
     "data": {
      "text/plain": [
       "Confusion Matrix and Statistics\n",
       "\n",
       "          Reference\n",
       "Prediction    0    1\n",
       "         0 5317    0\n",
       "         1   78 2877\n",
       "                                          \n",
       "               Accuracy : 0.9906          \n",
       "                 95% CI : (0.9882, 0.9925)\n",
       "    No Information Rate : 0.6522          \n",
       "    P-Value [Acc > NIR] : < 2.2e-16       \n",
       "                                          \n",
       "                  Kappa : 0.9793          \n",
       " Mcnemar's Test P-Value : < 2.2e-16       \n",
       "                                          \n",
       "            Sensitivity : 1.0000          \n",
       "            Specificity : 0.9855          \n",
       "         Pos Pred Value : 0.9736          \n",
       "         Neg Pred Value : 1.0000          \n",
       "             Prevalence : 0.3478          \n",
       "         Detection Rate : 0.3478          \n",
       "   Detection Prevalence : 0.3572          \n",
       "      Balanced Accuracy : 0.9928          \n",
       "                                          \n",
       "       'Positive' Class : 1               \n",
       "                                          "
      ]
     },
     "metadata": {},
     "output_type": "display_data"
    }
   ],
   "source": [
    "test_pred <- predict(rf.fit, test_set)\n",
    "test_pred <- as.factor(test_pred)\n",
    "confusionMatrix(test_pred, as.factor(test_set$pi), positive = '1')"
   ]
  },
  {
   "cell_type": "markdown",
   "metadata": {},
   "source": [
    "### Cross validation"
   ]
  },
  {
   "cell_type": "code",
   "execution_count": 38,
   "metadata": {},
   "outputs": [],
   "source": [
    "fitControl <- trainControl(method = \"cv\", number = 3)"
   ]
  },
  {
   "cell_type": "code",
   "execution_count": 21,
   "metadata": {},
   "outputs": [],
   "source": [
    "train_set$pi <- as.factor(train_set$pi)"
   ]
  },
  {
   "cell_type": "code",
   "execution_count": 33,
   "metadata": {},
   "outputs": [],
   "source": [
    "training <- select(train_set,-c(\"periop_pea_yn_used\",\"periop_pea_yn_perc\"))"
   ]
  },
  {
   "cell_type": "code",
   "execution_count": 39,
   "metadata": {},
   "outputs": [],
   "source": [
    "set.seed(825)\n",
    "rfFit1 <- caret::train(pi ~ ., data = training, method = \"rf\", trControl = fitControl)"
   ]
  },
  {
   "cell_type": "code",
   "execution_count": 32,
   "metadata": {},
   "outputs": [
    {
     "ename": "ERROR",
     "evalue": "Error in help(dplyr::select): 'topic' should be a name, length-one character vector or reserved word\n",
     "output_type": "error",
     "traceback": [
      "Error in help(dplyr::select): 'topic' should be a name, length-one character vector or reserved word\nTraceback:\n",
      "1. help(dplyr::select)",
      "2. stop(\"'topic' should be a name, length-one character vector or reserved word\")"
     ]
    }
   ],
   "source": []
  },
  {
   "cell_type": "code",
   "execution_count": 37,
   "metadata": {},
   "outputs": [
    {
     "data": {
      "text/html": [
       "<dl class=dl-horizontal>\n",
       "\t<dt>periop_pea_yn_used</dt>\n",
       "\t\t<dd>114</dd>\n",
       "\t<dt>periop_pea_yn_perc</dt>\n",
       "\t\t<dd>128</dd>\n",
       "</dl>\n"
      ],
      "text/latex": [
       "\\begin{description*}\n",
       "\\item[periop\\textbackslash{}\\_pea\\textbackslash{}\\_yn\\textbackslash{}\\_used] 114\n",
       "\\item[periop\\textbackslash{}\\_pea\\textbackslash{}\\_yn\\textbackslash{}\\_perc] 128\n",
       "\\end{description*}\n"
      ],
      "text/markdown": [
       "periop_pea_yn_used\n",
       ":   114periop_pea_yn_perc\n",
       ":   128\n",
       "\n"
      ],
      "text/plain": [
       "periop_pea_yn_used periop_pea_yn_perc \n",
       "               114                128 "
      ]
     },
     "metadata": {},
     "output_type": "display_data"
    }
   ],
   "source": [
    "which(apply(train_set, 2, function (x) length(unique(x))) ==1)"
   ]
  },
  {
   "cell_type": "markdown",
   "metadata": {},
   "source": [
    "### Modeling without Braden data"
   ]
  },
  {
   "cell_type": "code",
   "execution_count": 98,
   "metadata": {},
   "outputs": [
    {
     "data": {
      "text/plain": [
       "   user  system elapsed \n",
       " 311.50    0.51  316.99 "
      ]
     },
     "metadata": {},
     "output_type": "display_data"
    }
   ],
   "source": [
    "wo_braden <- select(train_set, -starts_with(\"braden\"))\n",
    "system.time(rf.fit.bd <- randomForest(pi~. , data=wo_braden,importance=TRUE,ntree=200,mtry=50))"
   ]
  },
  {
   "cell_type": "code",
   "execution_count": 110,
   "metadata": {},
   "outputs": [
    {
     "name": "stdout",
     "output_type": "stream",
     "text": [
      " num [1:205, 1:2] 13.7 27.5 17.3 12.8 18.1 ...\n",
      " - attr(*, \"dimnames\")=List of 2\n",
      "  ..$ : chr [1:205] \"matchsequence\" \"ageinyears\" \"los\" \"icu_los\" ...\n",
      "  ..$ : chr [1:2] \"MeanDecreaseAccuracy\" \"MeanDecreaseGini\"\n"
     ]
    },
    {
     "data": {
      "image/png": "[encoded data removed]",
      "text/plain": [
       "plot without title"
      ]
     },
     "metadata": {},
     "output_type": "display_data"
    }
   ],
   "source": [
    "options(repr.plot.width=10, repr.plot.height=6)\n",
    "str(varImpPlot(rf.fit.bd, cex=0.9))"
   ]
  },
  {
   "cell_type": "code",
   "execution_count": 103,
   "metadata": {},
   "outputs": [
    {
     "name": "stdout",
     "output_type": "stream",
     "text": [
      "\n",
      "Call:\n",
      " randomForest(formula = pi ~ ., data = wo_braden, importance = TRUE,      ntree = 200, mtry = 50) \n",
      "               Type of random forest: classification\n",
      "                     Number of trees: 200\n",
      "No. of variables tried at each split: 50\n",
      "\n",
      "        OOB estimate of  error rate: 0.79%\n",
      "Confusion matrix:\n",
      "      0    1  class.error\n",
      "0 12439  150 0.0119151640\n",
      "1     2 6711 0.0002979294\n"
     ]
    }
   ],
   "source": [
    "print(rf.fit.bd)"
   ]
  },
  {
   "cell_type": "code",
   "execution_count": 104,
   "metadata": {},
   "outputs": [
    {
     "name": "stdout",
     "output_type": "stream",
     "text": [
      "\n",
      "Call:\n",
      " randomForest(formula = pi ~ ., data = train_set, importance = TRUE,      ntree = 200, mtry = 50) \n",
      "               Type of random forest: classification\n",
      "                     Number of trees: 200\n",
      "No. of variables tried at each split: 50\n",
      "\n",
      "        OOB estimate of  error rate: 0.98%\n",
      "Confusion matrix:\n",
      "      0    1  class.error\n",
      "0 12401  188 0.0149336723\n",
      "1     1 6712 0.0001489647\n"
     ]
    }
   ],
   "source": [
    "print(rf.fit)"
   ]
  },
  {
   "cell_type": "code",
   "execution_count": 106,
   "metadata": {},
   "outputs": [
    {
     "data": {
      "text/plain": [
       "Confusion Matrix and Statistics\n",
       "\n",
       "          Reference\n",
       "Prediction     0     1\n",
       "         0 12589     0\n",
       "         1     0  6713\n",
       "                                     \n",
       "               Accuracy : 1          \n",
       "                 95% CI : (0.9998, 1)\n",
       "    No Information Rate : 0.6522     \n",
       "    P-Value [Acc > NIR] : < 2.2e-16  \n",
       "                                     \n",
       "                  Kappa : 1          \n",
       " Mcnemar's Test P-Value : NA         \n",
       "                                     \n",
       "            Sensitivity : 1.0000     \n",
       "            Specificity : 1.0000     \n",
       "         Pos Pred Value : 1.0000     \n",
       "         Neg Pred Value : 1.0000     \n",
       "             Prevalence : 0.3478     \n",
       "         Detection Rate : 0.3478     \n",
       "   Detection Prevalence : 0.3478     \n",
       "      Balanced Accuracy : 1.0000     \n",
       "                                     \n",
       "       'Positive' Class : 1          \n",
       "                                     "
      ]
     },
     "metadata": {},
     "output_type": "display_data"
    }
   ],
   "source": [
    "wo_braden_train <- select(train_set, -starts_with(\"braden\"))\n",
    "train_pred <- predict(rf.fit.bd, wo_braden_train)\n",
    "train_pred <- as.factor(train_pred)\n",
    "confusionMatrix(train_pred, as.factor(train_set$pi), positive='1')"
   ]
  },
  {
   "cell_type": "markdown",
   "metadata": {},
   "source": [
    "#### Evaluate on the test set"
   ]
  },
  {
   "cell_type": "code",
   "execution_count": 101,
   "metadata": {},
   "outputs": [
    {
     "data": {
      "text/plain": [
       "Confusion Matrix and Statistics\n",
       "\n",
       "          Reference\n",
       "Prediction    0    1\n",
       "         0 5346    0\n",
       "         1   49 2877\n",
       "                                          \n",
       "               Accuracy : 0.9941          \n",
       "                 95% CI : (0.9922, 0.9956)\n",
       "    No Information Rate : 0.6522          \n",
       "    P-Value [Acc > NIR] : < 2.2e-16       \n",
       "                                          \n",
       "                  Kappa : 0.987           \n",
       " Mcnemar's Test P-Value : 7.025e-12       \n",
       "                                          \n",
       "            Sensitivity : 1.0000          \n",
       "            Specificity : 0.9909          \n",
       "         Pos Pred Value : 0.9833          \n",
       "         Neg Pred Value : 1.0000          \n",
       "             Prevalence : 0.3478          \n",
       "         Detection Rate : 0.3478          \n",
       "   Detection Prevalence : 0.3537          \n",
       "      Balanced Accuracy : 0.9955          \n",
       "                                          \n",
       "       'Positive' Class : 1               \n",
       "                                          "
      ]
     },
     "metadata": {},
     "output_type": "display_data"
    }
   ],
   "source": [
    "wo_braden_test <- select(test_set, -starts_with(\"braden\"))\n",
    "test_pred <- predict(rf.fit.bd, wo_braden_test)\n",
    "test_pred <- as.factor(test_pred)\n",
    "confusionMatrix(test_pred, as.factor(test_set$pi), positive='1')"
   ]
  },
  {
   "cell_type": "code",
   "execution_count": null,
   "metadata": {},
   "outputs": [],
   "source": []
  },
  {
   "cell_type": "markdown",
   "metadata": {},
   "source": [
    "## Modeling with data rebalancing"
   ]
  },
  {
   "cell_type": "code",
   "execution_count": 8,
   "metadata": {
    "collapsed": true,
    "jupyter": {
     "outputs_hidden": true
    }
   },
   "outputs": [
    {
     "name": "stderr",
     "output_type": "stream",
     "text": [
      "Loading required package: mlr\n",
      "Loading required package: ParamHelpers\n",
      "\n",
      "Attaching package: 'mlr'\n",
      "\n",
      "The following object is masked from 'package:caret':\n",
      "\n",
      "    train\n",
      "\n",
      "Loading required package: doParallel\n",
      "Loading required package: iterators\n",
      "Loading required package: parallel\n"
     ]
    }
   ],
   "source": [
    "set.seed(1234)\n",
    "library(unbalanced)\n",
    "\n",
    "output <- as.factor(all_data$pi)\n",
    "input <- select(all_data, -pi)\n",
    "\n",
    "#configure sampling parameters\n",
    "#ubConf <- list(type=\"ubUnder\", k=10, perc=50, method=\"percPos\", w=NULL)"
   ]
  },
  {
   "cell_type": "code",
   "execution_count": 9,
   "metadata": {},
   "outputs": [],
   "source": [
    "#ubSMOTE(X, Y, perc.over = 200, k = 5, perc.under = 200, verbose = TRUE)\n",
    "#ubOver(X, Y, k = 0, verbose=TRUE)\n",
    "balanced_data = ubOver(X=input, Y=output, k=10)"
   ]
  },
  {
   "cell_type": "code",
   "execution_count": 10,
   "metadata": {},
   "outputs": [
    {
     "data": {
      "text/plain": [
       "\n",
       "    0     1 \n",
       "17984  9590 "
      ]
     },
     "metadata": {},
     "output_type": "display_data"
    }
   ],
   "source": [
    "balanced_data <- data.frame(balanced_data$X, pi=balanced_data$Y)\n",
    "table(balanced_data$pi)"
   ]
  },
  {
   "cell_type": "code",
   "execution_count": 54,
   "metadata": {},
   "outputs": [],
   "source": [
    "#apply oversampling\n",
    "#data <- ubUnder(X=input, Y=output, perc = 20, method = \"percPos\", w = NULL)\n",
    "#oversampled dataset"
   ]
  },
  {
   "cell_type": "markdown",
   "metadata": {},
   "source": [
    "### Stratified sampling"
   ]
  },
  {
   "cell_type": "code",
   "execution_count": 11,
   "metadata": {},
   "outputs": [
    {
     "data": {
      "text/plain": [
       "\n",
       "    0     1 \n",
       "12589  6713 "
      ]
     },
     "metadata": {},
     "output_type": "display_data"
    },
    {
     "data": {
      "text/plain": [
       "\n",
       "   0    1 \n",
       "5395 2877 "
      ]
     },
     "metadata": {},
     "output_type": "display_data"
    }
   ],
   "source": [
    "train.index <- createDataPartition(balanced_data$pi, p = .7, list = FALSE)\n",
    "train_set <- balanced_data[ train.index,]\n",
    "test_set  <- balanced_data[-train.index,]\n",
    "\n",
    "table(train_set$pi)\n",
    "\n",
    "table(test_set$pi)"
   ]
  },
  {
   "cell_type": "code",
   "execution_count": null,
   "metadata": {},
   "outputs": [],
   "source": []
  }
 ],
 "metadata": {
  "kernelspec": {
   "display_name": "R",
   "language": "R",
   "name": "ir"
  },
  "language_info": {
   "codemirror_mode": "r",
   "file_extension": ".r",
   "mimetype": "text/x-r-source",
   "name": "R",
   "pygments_lexer": "r",
   "version": "3.5.1"
  }
 },
 "nbformat": 4,
 "nbformat_minor": 4
}
